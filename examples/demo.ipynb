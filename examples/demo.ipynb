{
 "cells": [
  {
   "cell_type": "code",
   "execution_count": null,
   "metadata": {},
   "outputs": [],
   "source": [
    "\"\"\"\n",
    "This file contains a draft of a high level API\n",
    "covering most of the unray functionality.\n",
    "\n",
    "Note that creating objects directly will be more efficient\n",
    "and provide more detailed control of some parameters.\n",
    "\"\"\"\n",
    "\n",
    "import numbers\n",
    "import numpy as np\n",
    "import unray as ur\n",
    "import pythreejs as three\n",
    "from ipydatawidgets import NDArrayWidget\n",
    "\n",
    "def as_array_widget(values):\n",
    "    if values is None:\n",
    "        return None\n",
    "    elif isinstance(values, NDArrayWidget):\n",
    "        return values\n",
    "    return NDArrayWidget(values=values)\n",
    "\n",
    "def as_scalar_lut(lut):\n",
    "    if lut is None:\n",
    "        values = np.linspace(0.0, 1.0, 256, dtype='float32')\n",
    "        return ur.ArrayScalarLUT(values=values)\n",
    "    elif isinstance(lut, (tuple, list, np.ndarray)):\n",
    "        return ur.ArrayScalarLUT(values=lut)\n",
    "    return lut\n",
    "\n",
    "def as_color_lut(lut):\n",
    "    if lut is None:\n",
    "        values = np.outer(\n",
    "            np.linspace(0.0, 1.0, 256, dtype='float32'),\n",
    "            np.ones(3, dtype=\"float32\")\n",
    "            )\n",
    "        return ur.ArrayColorLUT(values=values)\n",
    "    elif isinstance(lut, (tuple, list, np.ndarray)):\n",
    "        return ur.ArrayColorLUT(values=lut)\n",
    "    return lut\n",
    "\n",
    "def as_field(mesh, values):\n",
    "    if isinstance(values, ur.Field):\n",
    "        return values\n",
    "    return ur.Field(mesh=mesh, values=values)\n",
    "\n",
    "def as_scalar(mesh, values, scalarmap):\n",
    "    if isinstance(values, numbers.Real):\n",
    "        return ur.ScalarConstant(value=values)\n",
    "    elif values is not None:\n",
    "        return ur.ScalarField(\n",
    "            field=as_field(mesh, values),\n",
    "            lut=as_scalar_lut(scalarmap)\n",
    "        )\n",
    "    elif isinstance(scalarmap, ur.ScalarConstant):\n",
    "        return scalarmap\n",
    "    return None\n",
    "\n",
    "def as_color(mesh, values, colormap):\n",
    "    #if isinstance(values, numbers.Real):\n",
    "    #    return ur.ColorConstant(value=values, lut=colormap)\n",
    "    if values is not None:\n",
    "        return ur.ColorField(\n",
    "            field=as_field(mesh, values),\n",
    "            lut=as_color_lut(colormap)\n",
    "        )\n",
    "    elif isinstance(colormap, ur.ColorConstant):\n",
    "        return colormap\n",
    "    elif isinstance(colormap, str):\n",
    "        return ur.ColorConstant(color=colormap)\n",
    "    return None\n",
    "\n",
    "def as_restrict(mesh, restrict):\n",
    "    if restrict is not None:\n",
    "        ifield = ur.IndicatorField(mesh=mesh, values=restrict, space=\"I3\")\n",
    "        return ur.ScalarIndicators(field=ifield, value=1)\n",
    "    return None\n",
    "\n",
    "def as_wireframe_params(wireframe):\n",
    "    if isinstance(wireframe, ur.WireframeParams):\n",
    "        return wireframe\n",
    "    if wireframe is None:\n",
    "        return ur.WireframeParams(enable=False)\n",
    "    elif isinstance(wireframe, dict):\n",
    "        return ur.WireframeParams(**wireframe)\n",
    "    elif isinstance(wireframe, bool):\n",
    "        return ur.WireframeParams(enable=wireframe)\n",
    "    return None\n",
    "\n",
    "def surf(mesh, values=None, colormap=None, restrict=None, wireframe=None):\n",
    "    \"\"\"Create an unray SurfacePlot from numpy arrays.\n",
    "\n",
    "    Consider this an example, the object based\n",
    "    API is more flexible than this function.\n",
    "    \"\"\"\n",
    "    assert isinstance(mesh, ur.Mesh)\n",
    "    attribs = {}\n",
    "    attribs[\"mesh\"] = mesh\n",
    "    attribs[\"restrict\"] = as_restrict(mesh, restrict)\n",
    "    attribs[\"color\"] = as_color(mesh, values, colormap)\n",
    "    attribs[\"wireframe\"] = as_wireframe_params(wireframe)\n",
    "    return ur.SurfacePlot(**attribs)\n",
    "\n",
    "def xray(mesh, density=None, densitymap=None, restrict=None, extinction=None):\n",
    "    \"\"\"Create an unray XrayPlot from numpy arrays.\n",
    "\n",
    "    Consider this an example, the object based\n",
    "    API is more flexible than this function.\n",
    "    \"\"\"\n",
    "    assert isinstance(mesh, ur.Mesh)\n",
    "    attribs = {}\n",
    "    attribs[\"mesh\"] = mesh\n",
    "    attribs[\"restrict\"] = as_restrict(mesh, restrict)\n",
    "    attribs[\"density\"] = as_scalar(mesh, density, densitymap)\n",
    "    if extinction is not None:\n",
    "        attribs[\"extinction\"] = extinction\n",
    "    return ur.XrayPlot(**attribs)\n",
    "\n",
    "def sumproj(mesh, values=None, colormap=None, restrict=None, exposure=None):\n",
    "    \"\"\"Create an unray MaxPlot from numpy arrays.\n",
    "\n",
    "    Consider this an example, the object based\n",
    "    API is more flexible than this function.\n",
    "    \"\"\"\n",
    "    assert isinstance(mesh, ur.Mesh)\n",
    "    attribs = {}\n",
    "    attribs[\"mesh\"] = mesh\n",
    "    attribs[\"restrict\"] = as_restrict(mesh, restrict)\n",
    "    color = as_color(mesh, values, colormap)\n",
    "    if color is not None:\n",
    "        attribs[\"color\"] = color\n",
    "    if exposure is not None:\n",
    "        attribs[\"exposure\"] = exposure\n",
    "    return ur.SumPlot(**attribs)\n",
    "\n",
    "def setup_renderer(group, camera_position=(10, 10, 10), light_position=(0, 10, 10), width=800, height=600, background='#eeeeee'):\n",
    "    \"Helper function to setup a basic pythreejs renderer and scene, adding given group to it.\"\n",
    "    camera = three.PerspectiveCamera(\n",
    "        position=camera_position,\n",
    "        aspect=width/height\n",
    "    )\n",
    "    key_light = three.DirectionalLight(position=light_position)\n",
    "    ambient = three.AmbientLight(intensity=0.5)\n",
    "    scene = three.Scene(children=[key_light, ambient, camera, group], background=background)\n",
    "    controls = three.OrbitControls(camera)\n",
    "    renderer = three.Renderer(scene, camera, [controls],\n",
    "                              width=width, height=height)\n",
    "    return renderer\n"
   ]
  },
  {
   "cell_type": "code",
   "execution_count": null,
   "metadata": {},
   "outputs": [],
   "source": [
    "def display_plot(plot, **kwargs):\n",
    "    group = three.Group()\n",
    "    group.add(plot)\n",
    "    renderer = setup_renderer(group, **kwargs)\n",
    "    return renderer"
   ]
  },
  {
   "cell_type": "markdown",
   "metadata": {},
   "source": [
    "# Importing dependencies"
   ]
  },
  {
   "cell_type": "code",
   "execution_count": null,
   "metadata": {},
   "outputs": [],
   "source": [
    "# We'll use numpy for representing raw arrays\n",
    "import numpy as np\n",
    "\n",
    "# ipywidgets is the framework for handling GUI elements\n",
    "# and communication between the python and browser context\n",
    "import ipywidgets as widgets\n",
    "\n",
    "# An NDArrayWidget represents a numpy array mirrored\n",
    "# to the browser context, improving sharing of data\n",
    "#from ipydatawidgets import NDArrayWidget\n",
    "\n",
    "# pythreejs provides a scenegraph by mirroring\n",
    "# three.js objects as ipywidgets\n",
    "import pythreejs as three\n",
    "\n",
    "# Finally the unray library\n",
    "import unray as ur\n",
    "\n",
    "# Currently defined in the cell above, either move into unray or just rewrite the demos to use the regular API:\n",
    "#from unray.lab import surf, xray, sumproj, display_renderer"
   ]
  },
  {
   "cell_type": "markdown",
   "metadata": {},
   "source": [
    "# Setup some data for testing\n",
    "All unray plots need a mesh in the form of vertex coordinates in a M x 3 points array and vertex indices for each tetrahedron in a N x 4 cells array. Data for continuous piecewise linear functions is passed as length M arrays. (Discontinuous DP1 or P0 functions are not yet supported.)"
   ]
  },
  {
   "cell_type": "code",
   "execution_count": null,
   "metadata": {},
   "outputs": [],
   "source": [
    "def single_tetrahedron():\n",
    "    cells = np.zeros((1, 4), dtype=\"uint32\")\n",
    "    coordinates = np.zeros((4, 3), dtype=\"float32\")\n",
    "    cells[0, :] = [0, 1, 2, 3]\n",
    "    coordinates[0, :] = [0, 0, 0]\n",
    "    coordinates[1, :] = [1, 0, 0]\n",
    "    coordinates[2, :] = [0, 1, 0]\n",
    "    coordinates[3, :] = [0, 0, 1]\n",
    "    values = np.zeros(4, dtype=\"float32\")\n",
    "    values[:] = [1, 3, 2, -1]\n",
    "    return coordinates, cells, values\n",
    "\n",
    "def load_data(filename):\n",
    "    mesh_data = np.load(filename)\n",
    "    cells_array = mesh_data[\"cells\"].astype(np.int32)\n",
    "    points_array = mesh_data[\"points\"].astype(np.float32)\n",
    "\n",
    "    # Coordinates of all vertices in mesh\n",
    "    x = list(points_array.T)  # x[2] = z coordinate array for all vertices\n",
    "\n",
    "    # Model center 3d vector\n",
    "    center = list(map(lambda x: x.mean(), x))\n",
    "\n",
    "    # Model min/max coordinates\n",
    "    bbox = list(map(lambda x: (x.min(), x.max()), x))\n",
    "\n",
    "    # Coordinates with origo shifted to center of model\n",
    "    xm = list(map(lambda x, mp: x - mp, x, center))\n",
    "\n",
    "    # Distance from model center\n",
    "    xd = np.sqrt(sum(map(lambda x: x**2, xm)))\n",
    "    radius = xd.max()\n",
    "\n",
    "    # Distance from center, normalized to max 1.0\n",
    "    func_dist = xd / radius\n",
    "\n",
    "    # A constant for all vertices\n",
    "    func_const = np.ones(x[0].shape)\n",
    "\n",
    "    # x coordinate\n",
    "    func_x = x[0]\n",
    "\n",
    "    # A wave pattern from the center of the model\n",
    "    freq = 4\n",
    "    func_wave = 2.0 + np.sin((freq * 2 * np.pi / radius) * xd)\n",
    "\n",
    "    return cells_array, points_array, func_wave\n",
    "\n",
    "# Example data\n",
    "filename = \"data/heart.npz\"\n",
    "#filename = \"data/brain.npz\"\n",
    "#filename = \"data/aneurysm.npz\"\n",
    "cells_array, points_array, function_array = load_data(filename)\n",
    "\n",
    "#cells_array, points_array, function_array = single_tetrahedron()"
   ]
  },
  {
   "cell_type": "markdown",
   "metadata": {},
   "source": [
    "# Data widgets\n",
    "See the submodule `unray.datawidgets.*` for a list of all data widgets. These are used to set up the input to unray."
   ]
  },
  {
   "cell_type": "code",
   "execution_count": null,
   "metadata": {},
   "outputs": [],
   "source": [
    "#import unray.datawidgets\n",
    "#unray.datawidgets??"
   ]
  },
  {
   "cell_type": "markdown",
   "metadata": {},
   "source": [
    "# Plot widgets\n",
    "See the submodule `unray.plotwidgets.*` for a list of all plot widgets. Each plot widget class (e.g. `XrayPlot`) corresponds to one type of visualization and has its own set of valid parameters."
   ]
  },
  {
   "cell_type": "code",
   "execution_count": null,
   "metadata": {},
   "outputs": [],
   "source": [
    "#import unray.plotwidgets\n",
    "#unray.plotwidgets??"
   ]
  },
  {
   "cell_type": "markdown",
   "metadata": {},
   "source": [
    "# Efficiency and memory usage\n",
    "The unray API can in many places take pure numpy arrays with data. To save memory and network traffic (copying between the python and browser context), it is highly recommended to create data objects wrapping the numpy arrays\n",
    "before setting up the plot objects. This will allow sharing data between plot objects on the browser side and simultaneous updating of fields across multiple plots."
   ]
  },
  {
   "cell_type": "code",
   "execution_count": null,
   "metadata": {},
   "outputs": [],
   "source": [
    "# Wrap arrays with cell and point data in a reusable Mesh object\n",
    "mesh = ur.Mesh(cells=cells_array, points=points_array)\n",
    "D = 6  # Mesh diameter, used for positioning below"
   ]
  },
  {
   "cell_type": "markdown",
   "metadata": {},
   "source": [
    "# Surface plot\n",
    "The surface plot draws the facets of the mesh as solid opaque surfaces.\n",
    "It can display just the mesh, be configured with wireframe parameters,\n",
    "or show a scalar field mapped to colors on its surface.\n",
    "All plot objects support restriction to cells."
   ]
  },
  {
   "cell_type": "code",
   "execution_count": null,
   "metadata": {},
   "outputs": [],
   "source": [
    "plot = surf(mesh)\n",
    "display_plot(plot, background=\"white\")"
   ]
  },
  {
   "cell_type": "code",
   "execution_count": null,
   "metadata": {},
   "outputs": [],
   "source": [
    "plot = surf(mesh, wireframe=True)\n",
    "display_plot(plot, background=\"white\")"
   ]
  },
  {
   "cell_type": "code",
   "execution_count": null,
   "metadata": {},
   "outputs": [],
   "source": [
    "wp = ur.WireframeParams(enable=True, color=\"#0000ff\", opacity=0.3)\n",
    "plot = surf(mesh, colormap=\"#ff8888\", wireframe=wp)\n",
    "display_plot(plot, background=\"white\")"
   ]
  },
  {
   "cell_type": "code",
   "execution_count": null,
   "metadata": {},
   "outputs": [],
   "source": [
    "plot = surf(mesh, values=function_array)\n",
    "display_plot(plot, background=\"white\")"
   ]
  },
  {
   "cell_type": "code",
   "execution_count": null,
   "metadata": {},
   "outputs": [],
   "source": [
    "plot = surf(mesh, values=function_array)\n",
    "display_plot(plot, background=\"white\")"
   ]
  },
  {
   "cell_type": "markdown",
   "metadata": {},
   "source": [
    "# Xray\n",
    "The xray is a simple direct volume rendering mode with pure absorption of background light at every point in the mesh. A scalar density field is integrated along a view ray behind each pixel to compute the opacity of the mesh.\n",
    "The image projected to screen is then simply the background image scaled by the transparency of the mesh (transparency = 1 - opacity)."
   ]
  },
  {
   "cell_type": "code",
   "execution_count": null,
   "metadata": {},
   "outputs": [],
   "source": [
    "plot = xray(mesh)\n",
    "display_plot(plot, background=\"white\")"
   ]
  },
  {
   "cell_type": "code",
   "execution_count": null,
   "metadata": {},
   "outputs": [],
   "source": [
    "plot = xray(mesh, density=0.15)\n",
    "display_plot(plot, background=\"white\")"
   ]
  },
  {
   "cell_type": "markdown",
   "metadata": {},
   "source": [
    "# Integration with ipywidgets\n",
    "Attributes of the data and plot widgets can be linked with sliders and other GUI elements from ipywidgets for some interactive control."
   ]
  },
  {
   "cell_type": "code",
   "execution_count": null,
   "metadata": {},
   "outputs": [],
   "source": [
    "plot = xray(mesh, density=1.0)\n",
    "renderer = display_plot(plot, background=\"white\")\n",
    "\n",
    "density_slider = widgets.FloatSlider(value=1.0, min=0.0, max=2.0, description=\"Density\")\n",
    "widgets.jslink(\n",
    "    (density_slider, \"value\"),\n",
    "    (plot.density, \"value\")\n",
    ")\n",
    "\n",
    "extinction_slider = widgets.FloatSlider(value=1.0, min=-10.0, max=10.0, description=\"Extinction\")\n",
    "widgets.jslink(\n",
    "    (extinction_slider, \"value\"),\n",
    "    (plot, \"extinction\")\n",
    ")\n",
    "\n",
    "widgets.VBox([renderer, density_slider, extinction_slider])"
   ]
  },
  {
   "cell_type": "markdown",
   "metadata": {},
   "source": [
    "# Sum projection\n",
    "The sum projection is a simple direct volume rendering mode with pure emission of light at every point in the mesh. The image projected to screen is then simply the integral of emitted light along a view ray behind each pixel."
   ]
  },
  {
   "cell_type": "code",
   "execution_count": null,
   "metadata": {},
   "outputs": [],
   "source": [
    "plot = sumproj(mesh, colormap=\"blue\", exposure=10.0)\n",
    "display_plot(plot, background=\"black\")"
   ]
  },
  {
   "cell_type": "code",
   "execution_count": null,
   "metadata": {},
   "outputs": [],
   "source": [
    "plot = sumproj(mesh, function_array, [[1,0,0], [0,0,1]], exposure=-0.0)\n",
    "display_plot(plot, background=\"black\")"
   ]
  },
  {
   "cell_type": "code",
   "execution_count": null,
   "metadata": {},
   "outputs": [],
   "source": [
    "plot = sumproj(mesh, colormap=\"red\", exposure=10.0)\n",
    "display_plot(plot, background=\"black\")"
   ]
  },
  {
   "cell_type": "code",
   "execution_count": null,
   "metadata": {},
   "outputs": [],
   "source": [
    "plot = sumproj(mesh, colormap=\"green\", exposure=-10.0)\n",
    "display_plot(plot, background=\"black\")"
   ]
  },
  {
   "cell_type": "markdown",
   "metadata": {},
   "source": [
    "# That's all!"
   ]
  }
 ],
 "metadata": {
  "kernelspec": {
   "display_name": "Python 3",
   "language": "python",
   "name": "python3"
  },
  "language_info": {
   "codemirror_mode": {
    "name": "ipython",
    "version": 3
   },
   "file_extension": ".py",
   "mimetype": "text/x-python",
   "name": "python",
   "nbconvert_exporter": "python",
   "pygments_lexer": "ipython3",
   "version": "3.5.2"
  }
 },
 "nbformat": 4,
 "nbformat_minor": 2
}
