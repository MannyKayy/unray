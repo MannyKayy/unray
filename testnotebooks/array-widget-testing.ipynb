{
 "cells": [
  {
   "cell_type": "code",
   "execution_count": null,
   "metadata": {},
   "outputs": [],
   "source": [
    "import ipywidgets\n",
    "import IPython\n",
    "import unray\n",
    "import dolfin\n",
    "import numpy as np\n",
    "\n",
    "from dolfin import *\n",
    "from unray import Data, DataDisplay, render\n",
    "from IPython.display import display\n",
    "\n",
    "print(ipywidgets.__version__)\n",
    "print(IPython.__version__)\n",
    "print(unray.__version__)\n",
    "\n",
    "def create_wave_mesh(N, M, thickness, xfreq, yfreq, xamp, yamp):\n",
    "    mesh = UnitCubeMesh(N, N, M)\n",
    "    print(mesh.num_cells(), mesh.num_vertices())\n",
    "    coordinates = mesh.coordinates()\n",
    "    coordinates[:,2] *= thickness\n",
    "    coordinates[:,2] += xamp*np.sin(3.14159*xfreq*coordinates[:,0])\n",
    "    coordinates[:,2] += yamp*np.sin(3.14159*yfreq*coordinates[:,1])\n",
    "    return mesh"
   ]
  },
  {
   "cell_type": "code",
   "execution_count": null,
   "metadata": {},
   "outputs": [],
   "source": [
    "#mesh = create_wave_mesh(32, 4, 0.125, 4.0, 3.0, 0.1, 0.05)\n",
    "mesh = Mesh(\"data/heart_mesh.xml.gz\")\n",
    "#mesh = Mesh(\"data/uncommited/dog_mesh_97k.xml.gz\")\n",
    "#mesh = Mesh(\"data/uncommited/brain_mesh.xml.gz\")\n",
    "#mesh = UnitCubeMesh(1, 1, 1)\n",
    "#mesh = UnitTetrahedronMesh()\n",
    "\n",
    "r = 3\n",
    "for i in range(r):\n",
    "    mesh = refine(mesh)\n",
    "print(mesh.num_cells(), mesh.num_vertices())\n",
    "\n",
    "cells = mesh.cells()\n",
    "coordinates = mesh.coordinates()\n",
    "\n",
    "bbox = [(coordinates[:,i].min(), coordinates[:,i].max()) for i in range(3)]\n",
    "bcenter = [0.5*sum(bbox[i]) for i in range(3)]\n",
    "bradius = sqrt(sum((bbox[i][1] - bbox[i][0])**2 for i in range(3)))\n",
    "\n",
    "mf = CellFunctionSizet(mesh)\n",
    "mf.set_all(1)\n",
    "class SD(SubDomain):\n",
    "    def inside(self, x, on_boundary):\n",
    "        return ((x[0]-bcenter[0])**2 + (x[1]-bcenter[0])**2 + (x[2]-bcenter[0])**2) < (bradius/3.0)**2\n",
    "SD().mark(mf, 1)\n",
    "\n",
    "V = FunctionSpace(mesh, \"P\", 1)\n",
    "f0 = interpolate(Expression(\"1.0\", degree=1), V)\n",
    "f = interpolate(Expression(\"x[0]\", degree=1), V)\n",
    "g = interpolate(Expression(\"x[1]\", degree=1), V)\n",
    "\n",
    "cell_indicators = np.asarray(mf.array(), dtype=\"int32\")\n",
    "density = f.compute_vertex_values()\n",
    "emission = g.compute_vertex_values()\n",
    "density_lut = None\n",
    "emission_lut = None\n",
    "\n",
    "mesh.num_cells(), bbox, bcenter, bradius"
   ]
  },
  {
   "cell_type": "code",
   "execution_count": null,
   "metadata": {},
   "outputs": [],
   "source": [
    "#exp(-rhoavg*bradius) = target\n",
    "#rhoavg = -ln(target) / bradius\n",
    "target = 0.5\n",
    "rhoavg = -ln(target) / bradius\n",
    "rhoavg"
   ]
  },
  {
   "cell_type": "code",
   "execution_count": null,
   "metadata": {
    "collapsed": true
   },
   "outputs": [],
   "source": [
    "#density_lut = np.asarray([1.0, 1.0, 0.0, 0.0, 1.0, 1.0], dtype=\"float32\")\n",
    "#density_lut = np.asarray([0.0, 0.0, 1., 1., 0.0, 0.0], dtype=\"float32\")\n",
    "#density_lut = np.asarray([1, 1, 1, 1], dtype=\"float32\")\n",
    "density_lut = np.asarray([0.2, .4, .6, .8], dtype=\"float32\")\n",
    "#density_lut = np.asarray([0.005, .005, .005, .005], dtype=\"float32\")\n",
    "\n",
    "emission_lut = np.asarray([[1,1,0], [1,.3,.6], [1,.6,.3], [1,1,0]], dtype=\"float32\")\n",
    "#emission_lut = np.asarray([[1,1,0], [0,1,0], [0,0,1], [1,1,1]], dtype=\"float32\")\n",
    "#emission_lut=np.asarray([[1,1,.9], [0,.5,0], [.5,.5,.5], [0,1,1]], dtype=\"float32\")"
   ]
  },
  {
   "cell_type": "code",
   "execution_count": null,
   "metadata": {},
   "outputs": [],
   "source": [
    "figs = []\n",
    "methods = [\"cells\"]\n",
    "#methods = [\"min\", \"min2\", \"max\", \"max2\"]\n",
    "#methods = [\"min\", \"max\", \"xray\", \"volume\"]\n",
    "#methods = [\"xray2\", \"cells\", \"isosurface\", \"surface\"]\n",
    "for method in methods:\n",
    "    fig = render(coordinates, cells,\n",
    "                 density=density, emission=emission,\n",
    "                 cell_indicators=cell_indicators,\n",
    "                 density_lut=density_lut,\n",
    "                 emission_lut=emission_lut,\n",
    "                 width=800, height=800,\n",
    "                 method=method)\n",
    "    fig.animate = True\n",
    "    figs.append(fig)\n",
    "box = ipywidgets.HBox([ipywidgets.VBox(figs[:2]), ipywidgets.VBox(figs[2:])])\n",
    "box"
   ]
  },
  {
   "cell_type": "code",
   "execution_count": null,
   "metadata": {
    "collapsed": true
   },
   "outputs": [],
   "source": [
    "for fig in figs:\n",
    "    fig.animate = False"
   ]
  },
  {
   "cell_type": "code",
   "execution_count": null,
   "metadata": {
    "collapsed": true
   },
   "outputs": [],
   "source": [
    "for fig in figs:\n",
    "    fig.animate = True"
   ]
  },
  {
   "cell_type": "code",
   "execution_count": null,
   "metadata": {
    "collapsed": true
   },
   "outputs": [],
   "source": []
  },
  {
   "cell_type": "code",
   "execution_count": null,
   "metadata": {
    "collapsed": true
   },
   "outputs": [],
   "source": [
    "[(coordinates[:,i].min(), coordinates[:,i].max()) for i in (0,1,2)]"
   ]
  },
  {
   "cell_type": "code",
   "execution_count": null,
   "metadata": {
    "collapsed": true
   },
   "outputs": [],
   "source": []
  },
  {
   "cell_type": "code",
   "execution_count": null,
   "metadata": {
    "collapsed": true
   },
   "outputs": [],
   "source": [
    "import itertools\n",
    "comb = list(itertools.permutations(range(4), 4))\n",
    "ncomb = len(comb)\n",
    "k = 0\n",
    "print(\"computed permutations:\", comb)\n",
    "print(\"ncomb:\", ncomb)\n",
    "\n",
    "coordinates = np.asarray([[0,0,0],  [1,0,0],  [0,1,0],  [.5,.5,1]], dtype=\"float32\")\n",
    "density = np.asarray([0.0, .33, .66, 1.0], dtype=\"float32\")\n",
    "emission = np.asarray([0.0, .33, .66, 1.0], dtype=\"float32\")\n",
    "density_lut = None\n",
    "emission_lut = np.asarray([[1,0,1], [1,.3,.6], [1,.6,.3], [1,1,0]], dtype=\"float32\")\n",
    "\n",
    "figs = {}\n",
    "m = 0\n",
    "#m = 8\n",
    "for k in range(m, m+16):\n",
    "    cells = np.asarray([[0, 1, 2, 3]], dtype=\"int32\")\n",
    "\n",
    "    #perm = [0,1,2,3]\n",
    "    perm = list(comb[k])\n",
    "    print(\"using perm \", k, \": \", perm)\n",
    "    cells[0][:] = cells[0][perm]\n",
    "\n",
    "    fig = render(coordinates, cells,\n",
    "                 density=density, emission=emission,\n",
    "                 density_lut=density_lut,\n",
    "                 emission_lut=emission_lut,\n",
    "                 width=64, height=64)\n",
    "    figs[k] = fig\n",
    "    fig.animate = False\n",
    "    #display(fig)\n",
    "\n",
    "box = ipywidgets.VBox([ipywidgets.HBox([figs[m+k] for k in range(i*4,i*4+4)]) for i in range(4)])\n",
    "display(box)"
   ]
  },
  {
   "cell_type": "code",
   "execution_count": null,
   "metadata": {
    "collapsed": true
   },
   "outputs": [],
   "source": [
    "fig.animate = True"
   ]
  },
  {
   "cell_type": "code",
   "execution_count": null,
   "metadata": {
    "collapsed": true
   },
   "outputs": [],
   "source": [
    "fig.animate = False"
   ]
  },
  {
   "cell_type": "code",
   "execution_count": null,
   "metadata": {
    "collapsed": true
   },
   "outputs": [],
   "source": []
  },
  {
   "cell_type": "code",
   "execution_count": null,
   "metadata": {
    "collapsed": true
   },
   "outputs": [],
   "source": []
  },
  {
   "cell_type": "code",
   "execution_count": null,
   "metadata": {
    "collapsed": true
   },
   "outputs": [],
   "source": []
  },
  {
   "cell_type": "code",
   "execution_count": null,
   "metadata": {
    "collapsed": true
   },
   "outputs": [],
   "source": [
    "cells = np.asarray([[0, 1, 2, 3], [0, 1, 2, 4]], dtype=\"int32\")\n",
    "coordinates = np.asarray([[0,0,0],  [1,0,0],  [0,1,0],  [.5,.5,1], [.5, .5, -1]], dtype=\"float32\")\n",
    "cell_indicators = np.asarray([-1, 1], dtype=\"int32\")\n",
    "density = np.asarray([0.0, .33, .66, 1.0, 1.0], dtype=\"float32\")\n",
    "emission = np.asarray([0.0, .33, .66, 1.0, 1.0], dtype=\"float32\")\n",
    "density_lut = None\n",
    "emission_lut = np.asarray([[1,0,1], [1,.3,.6], [1,.6,.3], [1,1,0]], dtype=\"float32\")\n",
    "\n",
    "fig = render(coordinates, cells,\n",
    "             density=density, emission=emission,\n",
    "             density_lut=density_lut,\n",
    "             emission_lut=emission_lut,\n",
    "             width=512, height=512)\n",
    "fig.animate = False\n",
    "display(fig)"
   ]
  },
  {
   "cell_type": "code",
   "execution_count": null,
   "metadata": {
    "collapsed": true
   },
   "outputs": [],
   "source": [
    "fig.animate = True"
   ]
  },
  {
   "cell_type": "code",
   "execution_count": null,
   "metadata": {
    "collapsed": true
   },
   "outputs": [],
   "source": [
    "fig.animate = False"
   ]
  },
  {
   "cell_type": "code",
   "execution_count": null,
   "metadata": {
    "collapsed": true
   },
   "outputs": [],
   "source": []
  },
  {
   "cell_type": "code",
   "execution_count": null,
   "metadata": {
    "collapsed": true
   },
   "outputs": [],
   "source": [
    "fig.update_data(emission_lut=np.asarray([[1,0,0], [0,1,0], [0,0,1], [1,1,1]], dtype=\"float32\"))"
   ]
  },
  {
   "cell_type": "code",
   "execution_count": null,
   "metadata": {
    "collapsed": true
   },
   "outputs": [],
   "source": [
    "mesh"
   ]
  },
  {
   "cell_type": "code",
   "execution_count": null,
   "metadata": {
    "collapsed": true
   },
   "outputs": [],
   "source": []
  },
  {
   "cell_type": "code",
   "execution_count": null,
   "metadata": {
    "collapsed": true
   },
   "outputs": [],
   "source": [
    "fig.update_data(emission_lut=np.asarray([[1,1,.9], [0,0,0], [.5,.5,.5], [0,1,1]], dtype=\"float32\"))"
   ]
  },
  {
   "cell_type": "code",
   "execution_count": null,
   "metadata": {
    "collapsed": true
   },
   "outputs": [],
   "source": []
  },
  {
   "cell_type": "code",
   "execution_count": null,
   "metadata": {
    "collapsed": true
   },
   "outputs": [],
   "source": []
  },
  {
   "cell_type": "code",
   "execution_count": null,
   "metadata": {
    "collapsed": true
   },
   "outputs": [],
   "source": []
  },
  {
   "cell_type": "code",
   "execution_count": null,
   "metadata": {
    "collapsed": true
   },
   "outputs": [],
   "source": []
  },
  {
   "cell_type": "code",
   "execution_count": null,
   "metadata": {
    "collapsed": true
   },
   "outputs": [],
   "source": []
  },
  {
   "cell_type": "code",
   "execution_count": null,
   "metadata": {
    "collapsed": true
   },
   "outputs": [],
   "source": [
    "cells = Data(name=\"cells\", array=cells_array)\n",
    "coordinates = Data(name=\"coordinates\", array=coordinates_array)\n",
    "density = Data(name=\"density\", array=density_array)"
   ]
  },
  {
   "cell_type": "code",
   "execution_count": null,
   "metadata": {
    "collapsed": true
   },
   "outputs": [],
   "source": [
    "density_display = DataDisplay(data=density)\n",
    "#density_display"
   ]
  },
  {
   "cell_type": "code",
   "execution_count": null,
   "metadata": {
    "collapsed": true
   },
   "outputs": [],
   "source": [
    "density_array[:] *= 0.8\n",
    "density.send_state(\"array\")"
   ]
  }
 ],
 "metadata": {
  "kernelspec": {
   "display_name": "Python 3",
   "language": "python",
   "name": "python3"
  },
  "language_info": {
   "codemirror_mode": {
    "name": "ipython",
    "version": 3
   },
   "file_extension": ".py",
   "mimetype": "text/x-python",
   "name": "python",
   "nbconvert_exporter": "python",
   "pygments_lexer": "ipython3",
   "version": "3.5.2"
  }
 },
 "nbformat": 4,
 "nbformat_minor": 2
}
