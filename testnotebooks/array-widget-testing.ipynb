{
 "cells": [
  {
   "cell_type": "code",
   "execution_count": 1,
   "metadata": {},
   "outputs": [
    {
     "name": "stdout",
     "output_type": "stream",
     "text": [
      "7.0.0a4\n",
      "6.1.0\n",
      "0.1.0.dev\n"
     ]
    }
   ],
   "source": [
    "import ipywidgets\n",
    "import IPython\n",
    "import unray\n",
    "import dolfin\n",
    "import numpy as np\n",
    "\n",
    "from dolfin import *\n",
    "from unray import Data, DataDisplay, render\n",
    "from IPython.display import display\n",
    "\n",
    "print(ipywidgets.__version__)\n",
    "print(IPython.__version__)\n",
    "print(unray.__version__)"
   ]
  },
  {
   "cell_type": "code",
   "execution_count": 2,
   "metadata": {
    "collapsed": true
   },
   "outputs": [],
   "source": [
    "def create_wave_mesh(N, M, xfreq, yfreq, amp):\n",
    "    mesh = UnitCubeMesh(N, N, M)\n",
    "    print(mesh.num_cells(), mesh.num_vertices())\n",
    "    coordinates = mesh.coordinates()\n",
    "    coordinates[:,2] += np.sin(3.14159*xfreq*coordinates[:,0])\n",
    "    coordinates[:,2] += np.sin(3.14159*yfreq*coordinates[:,1])\n",
    "    coordinates[:,2] *= amp\n",
    "    return mesh"
   ]
  },
  {
   "cell_type": "code",
   "execution_count": 3,
   "metadata": {},
   "outputs": [
    {
     "name": "stdout",
     "output_type": "stream",
     "text": [
      "24576 5445\n"
     ]
    }
   ],
   "source": [
    "mesh = create_wave_mesh(32, 4, 4.0, 3.0, 0.125)\n",
    "#mesh = Mesh(\"data/heart_mesh.xml.gz\")\n",
    "#mesh = Mesh(\"data/dog_mesh_97k.xml.gz\")\n",
    "#mesh = UnitCubeMesh(1, 1, 1)\n",
    "#mesh = UnitTetrahedronMesh()"
   ]
  },
  {
   "cell_type": "code",
   "execution_count": 4,
   "metadata": {},
   "outputs": [
    {
     "name": "stdout",
     "output_type": "stream",
     "text": [
      "24576 5445\n"
     ]
    }
   ],
   "source": [
    "r = 0\n",
    "for i in range(r):\n",
    "    mesh = refine(mesh)\n",
    "print(mesh.num_cells(), mesh.num_vertices())\n",
    "V = FunctionSpace(mesh, \"P\", 1)\n",
    "f0 = interpolate(Expression(\"1.0\", degree=1), V)\n",
    "f = interpolate(Expression(\"x[0]\", degree=1), V)\n",
    "g = interpolate(Expression(\"x[1]\", degree=1), V)"
   ]
  },
  {
   "cell_type": "code",
   "execution_count": 5,
   "metadata": {
    "collapsed": true
   },
   "outputs": [],
   "source": [
    "cells = mesh.cells()\n",
    "coordinates = mesh.coordinates()\n",
    "density = f.compute_vertex_values()\n",
    "emission = g.compute_vertex_values()\n",
    "density_lut = None\n",
    "emission_lut = None\n",
    "\n",
    "#density_lut = np.asarray([1.0, 1.0, 0.0, 0.0, 1.0, 1.0], dtype=\"float32\")\n",
    "#density_lut = np.asarray([0.0, 0.0, 1., 1., 0.0, 0.0], dtype=\"float32\")\n",
    "#density_lut = np.asarray([1, 1, 1, 1], dtype=\"float32\")\n",
    "density_lut = np.asarray([0.2, .4, .6, .8], dtype=\"float32\")\n",
    "\n",
    "emission_lut = np.asarray([[1,1,0], [1,.3,.6], [1,.6,.3], [1,1,0]], dtype=\"float32\")\n",
    "#emission_lut = np.asarray([[1,1,0], [0,1,0], [0,0,1], [1,1,1]], dtype=\"float32\")\n",
    "#emission_lut=np.asarray([[1,1,.9], [0,.5,0], [.5,.5,.5], [0,1,1]], dtype=\"float32\")\n"
   ]
  },
  {
   "cell_type": "code",
   "execution_count": 12,
   "metadata": {},
   "outputs": [
    {
     "data": {
      "text/plain": [
       "24576"
      ]
     },
     "execution_count": 12,
     "metadata": {},
     "output_type": "execute_result"
    }
   ],
   "source": [
    "mesh.num_cells()"
   ]
  },
  {
   "cell_type": "code",
   "execution_count": 48,
   "metadata": {},
   "outputs": [
    {
     "data": {
      "text/plain": [
       "array([-2, -2, -2, ..., -2, -2, -2], dtype=int32)"
      ]
     },
     "execution_count": 48,
     "metadata": {},
     "output_type": "execute_result"
    }
   ],
   "source": [
    "cell_indicators = np.zeros(mesh.num_cells(), dtype=\"int32\")\n",
    "cell_indicators[:] = 2\n",
    "cell_indicators[:3000] = -2\n",
    "cell_indicators[-3000:] = -2\n",
    "#cell_indicators[::2] = 1\n",
    "#cell_indicators[:mesh.num_cells()//2] = -2\n",
    "cell_indicators"
   ]
  },
  {
   "cell_type": "code",
   "execution_count": 49,
   "metadata": {},
   "outputs": [
    {
     "data": {
      "application/vnd.jupyter.widget-view+json": {
       "model_id": "9f2004cb66f640499ccc453d75b0bd16",
       "version_major": "2",
       "version_minor": "0"
      },
      "text/plain": [
       "A Jupyter Widget"
      ]
     },
     "metadata": {},
     "output_type": "display_data"
    }
   ],
   "source": [
    "method = \"cells\"\n",
    "fig = render(coordinates, cells,\n",
    "             density=density, emission=emission,\n",
    "             density_lut=density_lut,\n",
    "             emission_lut=emission_lut,\n",
    "             cell_indicators=cell_indicators,\n",
    "             width=400, height=400,\n",
    "             method=method)\n",
    "fig.animate = False\n",
    "#fig.animate = True\n",
    "fig"
   ]
  },
  {
   "cell_type": "code",
   "execution_count": null,
   "metadata": {
    "collapsed": true
   },
   "outputs": [],
   "source": [
    "fig.animate = False\n"
   ]
  },
  {
   "cell_type": "code",
   "execution_count": null,
   "metadata": {
    "collapsed": true
   },
   "outputs": [],
   "source": [
    "figs = []\n",
    "#for method in [\"min\", \"min2\", \"xray\", \"xray2\"]:\n",
    "#for method in [\"isosurface2\", \"max2\", \"xray2\", \"min2\"]:\n",
    "#for method in [\"isosurface\", \"max\", \"xray\", \"min\"]:\n",
    "#for method in [\"surface\", \"surface_depth\", \"isosurface\", \"xray\"]:\n",
    "#for method in [\"surface\", \"surface_depth\", \"isosurface2\", \"xray2\"]:\n",
    "for method in [\"surface_depth\", \"surface\", \"max\", \"isosurface\"]:\n",
    "    fig = render(coordinates, cells,\n",
    "                 density=density, emission=emission,\n",
    "                 density_lut=density_lut,\n",
    "                 emission_lut=emission_lut,\n",
    "                 width=400, height=400,\n",
    "                 method=method)\n",
    "    fig.animate = True\n",
    "    figs.append(fig)\n",
    "box = ipywidgets.HBox([ipywidgets.VBox(figs[:2]), ipywidgets.VBox(figs[2:])])\n",
    "box"
   ]
  },
  {
   "cell_type": "code",
   "execution_count": null,
   "metadata": {
    "collapsed": true
   },
   "outputs": [],
   "source": [
    "for fig in figs:\n",
    "    fig.animate = False"
   ]
  },
  {
   "cell_type": "code",
   "execution_count": null,
   "metadata": {
    "collapsed": true
   },
   "outputs": [],
   "source": [
    "for fig in figs:\n",
    "    fig.animate = True"
   ]
  },
  {
   "cell_type": "code",
   "execution_count": null,
   "metadata": {
    "collapsed": true
   },
   "outputs": [],
   "source": []
  },
  {
   "cell_type": "code",
   "execution_count": null,
   "metadata": {
    "collapsed": true
   },
   "outputs": [],
   "source": [
    "[(coordinates[:,i].min(), coordinates[:,i].max()) for i in (0,1,2)]"
   ]
  },
  {
   "cell_type": "code",
   "execution_count": null,
   "metadata": {
    "collapsed": true
   },
   "outputs": [],
   "source": []
  },
  {
   "cell_type": "code",
   "execution_count": null,
   "metadata": {
    "collapsed": true
   },
   "outputs": [],
   "source": [
    "import itertools\n",
    "comb = list(itertools.permutations(range(4), 4))\n",
    "ncomb = len(comb)\n",
    "k = 0\n",
    "print(\"computed permutations:\", comb)\n",
    "print(\"ncomb:\", ncomb)\n",
    "\n",
    "coordinates = np.asarray([[0,0,0],  [1,0,0],  [0,1,0],  [.5,.5,1]], dtype=\"float32\")\n",
    "density = np.asarray([0.0, .33, .66, 1.0], dtype=\"float32\")\n",
    "emission = np.asarray([0.0, .33, .66, 1.0], dtype=\"float32\")\n",
    "density_lut = None\n",
    "emission_lut = np.asarray([[1,0,1], [1,.3,.6], [1,.6,.3], [1,1,0]], dtype=\"float32\")\n",
    "\n",
    "figs = {}\n",
    "m = 0\n",
    "#m = 8\n",
    "for k in range(m, m+16):\n",
    "    cells = np.asarray([[0, 1, 2, 3]], dtype=\"int32\")\n",
    "\n",
    "    #perm = [0,1,2,3]\n",
    "    perm = list(comb[k])\n",
    "    print(\"using perm \", k, \": \", perm)\n",
    "    cells[0][:] = cells[0][perm]\n",
    "\n",
    "    fig = render(coordinates, cells,\n",
    "                 density=density, emission=emission,\n",
    "                 density_lut=density_lut,\n",
    "                 emission_lut=emission_lut,\n",
    "                 width=64, height=64)\n",
    "    figs[k] = fig\n",
    "    fig.animate = False\n",
    "    #display(fig)\n",
    "\n",
    "box = ipywidgets.VBox([ipywidgets.HBox([figs[m+k] for k in range(i*4,i*4+4)]) for i in range(4)])\n",
    "display(box)"
   ]
  },
  {
   "cell_type": "code",
   "execution_count": null,
   "metadata": {
    "collapsed": true
   },
   "outputs": [],
   "source": [
    "fig.animate = True"
   ]
  },
  {
   "cell_type": "code",
   "execution_count": null,
   "metadata": {
    "collapsed": true
   },
   "outputs": [],
   "source": [
    "fig.animate = False"
   ]
  },
  {
   "cell_type": "code",
   "execution_count": null,
   "metadata": {
    "collapsed": true
   },
   "outputs": [],
   "source": []
  },
  {
   "cell_type": "code",
   "execution_count": null,
   "metadata": {
    "collapsed": true
   },
   "outputs": [],
   "source": []
  },
  {
   "cell_type": "code",
   "execution_count": null,
   "metadata": {
    "collapsed": true
   },
   "outputs": [],
   "source": [
    "coordinates = np.asarray([[0,0,0],  [1,0,0],  [0,1,0],  [.5,.5,1], [.5, .5, -1]], dtype=\"float32\")\n",
    "density = np.asarray([0.0, .33, .66, 1.0, 1.0], dtype=\"float32\")\n",
    "emission = np.asarray([0.0, .33, .66, 1.0, 1.0], dtype=\"float32\")\n",
    "density_lut = None\n",
    "emission_lut = np.asarray([[1,0,1], [1,.3,.6], [1,.6,.3], [1,1,0]], dtype=\"float32\")\n",
    "\n",
    "cells = np.asarray([[0, 1, 2, 3], [0, 1, 2, 4]], dtype=\"int32\")\n",
    "\n",
    "fig = render(coordinates, cells,\n",
    "             density=density, emission=emission,\n",
    "             density_lut=density_lut,\n",
    "             emission_lut=emission_lut,\n",
    "             width=512, height=512)\n",
    "fig.animate = False\n",
    "display(fig)"
   ]
  },
  {
   "cell_type": "code",
   "execution_count": null,
   "metadata": {
    "collapsed": true
   },
   "outputs": [],
   "source": [
    "fig.animate = True"
   ]
  },
  {
   "cell_type": "code",
   "execution_count": null,
   "metadata": {
    "collapsed": true
   },
   "outputs": [],
   "source": [
    "fig.animate = False"
   ]
  },
  {
   "cell_type": "code",
   "execution_count": null,
   "metadata": {
    "collapsed": true
   },
   "outputs": [],
   "source": []
  },
  {
   "cell_type": "code",
   "execution_count": null,
   "metadata": {
    "collapsed": true
   },
   "outputs": [],
   "source": [
    "fig.update_data(emission_lut=np.asarray([[1,0,0], [0,1,0], [0,0,1], [1,1,1]], dtype=\"float32\"))"
   ]
  },
  {
   "cell_type": "code",
   "execution_count": null,
   "metadata": {
    "collapsed": true
   },
   "outputs": [],
   "source": [
    "mesh"
   ]
  },
  {
   "cell_type": "code",
   "execution_count": null,
   "metadata": {
    "collapsed": true
   },
   "outputs": [],
   "source": []
  },
  {
   "cell_type": "code",
   "execution_count": null,
   "metadata": {
    "collapsed": true
   },
   "outputs": [],
   "source": [
    "fig.update_data(emission_lut=np.asarray([[1,1,.9], [0,0,0], [.5,.5,.5], [0,1,1]], dtype=\"float32\"))"
   ]
  },
  {
   "cell_type": "code",
   "execution_count": null,
   "metadata": {
    "collapsed": true
   },
   "outputs": [],
   "source": []
  },
  {
   "cell_type": "code",
   "execution_count": null,
   "metadata": {
    "collapsed": true
   },
   "outputs": [],
   "source": []
  },
  {
   "cell_type": "code",
   "execution_count": null,
   "metadata": {
    "collapsed": true
   },
   "outputs": [],
   "source": []
  },
  {
   "cell_type": "code",
   "execution_count": null,
   "metadata": {
    "collapsed": true
   },
   "outputs": [],
   "source": []
  },
  {
   "cell_type": "code",
   "execution_count": null,
   "metadata": {
    "collapsed": true
   },
   "outputs": [],
   "source": []
  },
  {
   "cell_type": "code",
   "execution_count": null,
   "metadata": {
    "collapsed": true
   },
   "outputs": [],
   "source": [
    "cells = Data(name=\"cells\", array=cells_array)\n",
    "coordinates = Data(name=\"coordinates\", array=coordinates_array)\n",
    "density = Data(name=\"density\", array=density_array)"
   ]
  },
  {
   "cell_type": "code",
   "execution_count": null,
   "metadata": {
    "collapsed": true
   },
   "outputs": [],
   "source": [
    "density_display = DataDisplay(data=density)\n",
    "#density_display"
   ]
  },
  {
   "cell_type": "code",
   "execution_count": null,
   "metadata": {
    "collapsed": true
   },
   "outputs": [],
   "source": [
    "density_array[:] *= 0.8\n",
    "density.send_state(\"array\")"
   ]
  }
 ],
 "metadata": {
  "kernelspec": {
   "display_name": "Python 3",
   "language": "python",
   "name": "python3"
  },
  "language_info": {
   "codemirror_mode": {
    "name": "ipython",
    "version": 3
   },
   "file_extension": ".py",
   "mimetype": "text/x-python",
   "name": "python",
   "nbconvert_exporter": "python",
   "pygments_lexer": "ipython3",
   "version": "3.5.2"
  }
 },
 "nbformat": 4,
 "nbformat_minor": 2
}
