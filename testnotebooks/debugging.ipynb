{
 "cells": [
  {
   "cell_type": "code",
   "execution_count": null,
   "metadata": {
    "collapsed": true
   },
   "outputs": [],
   "source": [
    "from unray import render\n",
    "import numpy as np\n",
    "import pylab as pl"
   ]
  },
  {
   "cell_type": "code",
   "execution_count": null,
   "metadata": {
    "collapsed": true
   },
   "outputs": [],
   "source": [
    "# Some values in notebook below are adjusted to the heart model but the code is generic\n",
    "filename = \"data/heart.npz\"\n",
    "#filename = \"data/brain.npz\"\n",
    "#filename = \"data/aneurysm.npz\"\n",
    "\n",
    "mesh = np.load(filename)\n",
    "cells = mesh[\"cells\"]\n",
    "points = mesh[\"points\"]"
   ]
  },
  {
   "cell_type": "code",
   "execution_count": null,
   "metadata": {
    "collapsed": true
   },
   "outputs": [],
   "source": [
    "# Coordinates of all vertices in mesh\n",
    "x = list(points.T)  # x[2] = z coordinate array for all vertices\n",
    "\n",
    "# Model center 3d vector\n",
    "center = list(map(lambda x: x.mean(), x))\n",
    "\n",
    "# Model min/max coordinates\n",
    "bbox = list(map(lambda x: (x.min(), x.max()), x))\n",
    "\n",
    "# Coordinates with origo shifted to center of model\n",
    "xm = list(map(lambda x, mp: x - mp, x, center))\n",
    "\n",
    "# Distance from model center\n",
    "xd = np.sqrt(sum(map(lambda x: x**2, xm)))\n",
    "radius = xd.max()\n",
    "\n",
    "# Distance from center, normalized to max 1.0\n",
    "func_dist = xd / radius\n",
    "\n",
    "# A constant for all vertices\n",
    "func_const = np.ones(x[0].shape)\n",
    "\n",
    "# x coordinate\n",
    "func_x = x[0]\n",
    "\n",
    "# A wave pattern from the center of the model\n",
    "freq = 4\n",
    "func_wave = 2.0 + np.sin((freq * 2 * np.pi / radius) * xd)"
   ]
  },
  {
   "cell_type": "code",
   "execution_count": null,
   "metadata": {},
   "outputs": [],
   "source": [
    "subcells = cells.copy()\n",
    "subpoints = points.copy()\n",
    "\n",
    "# Pick cells where first vertex is below center in x,y,z\n",
    "for i in range(3):\n",
    "    subcells = subcells[np.where(points[subcells[:,0], i] < center[i])]\n",
    "\n",
    "# Pick cells where first vertex is within an interval\n",
    "subcells = subcells[np.where(func_dist[subcells[:,0]] < 0.7)]\n",
    "subcells = subcells[np.where(func_dist[subcells[:,0]] > 0.6)]\n",
    "\n",
    "# Drop points beyond highest vertex index in subcells\n",
    "vmap = np.array(sorted(subcells.flatten()), dtype=subcells.dtype)\n",
    "vmapinv = -np.ones(vmap.max()+1, dtype=subcells.dtype)\n",
    "vmapinv[vmap] = np.arange(vmap.shape[0], dtype=subcells.dtype)\n",
    "subpoints2 = subpoints[vmap,:]\n",
    "subcells2 = vmapinv[subcells]\n",
    "print(subpoints.shape, subcells.shape)\n",
    "print(subpoints2.shape, subcells2.shape)\n",
    "\n",
    "print((lambda a: (a.min(), a.max(), a.mean()))(func_dist[subcells]))\n",
    "\n",
    "# Pick one cell\n",
    "if 0:\n",
    "    subcells = subcells[i:i+1,:]\n",
    "    subpoints = points[subcells[0],:]\n",
    "    subcells[:] = [0,1,2,3]\n",
    "\n",
    "emission_lut = [1,1,1, 0,1,1, 1,1,1, 1,1,1,\n",
    "                1,1,1, 1,0,1, 1,1,1, 1,1,1,\n",
    "                1,1,1, 1,1,0, 1,1,1, 1,1,1]\n",
    "render(cells=subcells, coordinates=subpoints,\n",
    "       emission=func_dist, emission_lut=emission_lut,\n",
    "       method=\"min\")"
   ]
  },
  {
   "cell_type": "code",
   "execution_count": null,
   "metadata": {
    "collapsed": true
   },
   "outputs": [],
   "source": []
  }
 ],
 "metadata": {
  "kernelspec": {
   "display_name": "Python 3",
   "language": "python",
   "name": "python3"
  },
  "language_info": {
   "codemirror_mode": {
    "name": "ipython",
    "version": 3
   },
   "file_extension": ".py",
   "mimetype": "text/x-python",
   "name": "python",
   "nbconvert_exporter": "python",
   "pygments_lexer": "ipython3",
   "version": "3.5.2"
  }
 },
 "nbformat": 4,
 "nbformat_minor": 2
}
