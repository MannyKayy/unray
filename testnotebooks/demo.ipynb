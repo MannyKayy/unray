{
 "cells": [
  {
   "cell_type": "code",
   "execution_count": null,
   "metadata": {
    "collapsed": true
   },
   "outputs": [],
   "source": [
    "from unray import render\n",
    "import numpy as np\n",
    "import pylab as pl"
   ]
  },
  {
   "cell_type": "code",
   "execution_count": null,
   "metadata": {
    "collapsed": true
   },
   "outputs": [],
   "source": [
    "filename = \"data/heart.npz\"\n",
    "#filename = \"data/brain.npz\"\n",
    "#filename = \"data/aneurysm.npz\"\n",
    "\n",
    "mesh = np.load(filename)\n",
    "cells = mesh[\"cells\"]\n",
    "points = mesh[\"points\"]"
   ]
  },
  {
   "cell_type": "code",
   "execution_count": null,
   "metadata": {
    "collapsed": true
   },
   "outputs": [],
   "source": [
    "# Coordinates of all vertices in mesh\n",
    "x = list(points.T)  # x[2] = z coordinate array for all vertices\n",
    "\n",
    "# Model center 3d vector\n",
    "center = map(lambda x: x.mean(), x)\n",
    "\n",
    "# Model min/max coordinates\n",
    "bbox = map(lambda x: (x.min(), x.max()), x)\n",
    "\n",
    "# Coordinates with origo shifted to center of model\n",
    "xm = map(lambda x, mp: x - mp, x, center)\n",
    "\n",
    "# Distance from center, normalized to max 1.0\n",
    "xd = np.sqrt(sum(map(lambda x: x**2, xm)))\n",
    "radius = xd.max()\n",
    "xd /= radius\n",
    "\n",
    "# A constant for all vertices\n",
    "func_c = np.ones(x[0].shape)\n",
    "\n",
    "# x coordinate\n",
    "func_x = x[0]\n",
    "\n",
    "# A wave pattern from the center of the model\n",
    "freq = 4\n",
    "func_wave = 2.0 + np.sin(freq * 2 * np.pi * xd)"
   ]
  },
  {
   "cell_type": "code",
   "execution_count": null,
   "metadata": {
    "collapsed": true
   },
   "outputs": [],
   "source": [
    "emission_lut = [1,0,0, 0,0,1]\n",
    "\n",
    "render(cells=cells, coordinates=points,\n",
    "       emission=func_wave, emission_lut=emission_lut,\n",
    "       method=\"surface\")"
   ]
  },
  {
   "cell_type": "code",
   "execution_count": null,
   "metadata": {
    "collapsed": true
   },
   "outputs": [],
   "source": [
    "n = cells.shape[0]\n",
    "cell_indicators = np.ones(n, dtype='int32')\n",
    "cell_indicators[np.where(points[cells[:,0],0] < midpoint[0])] = 0\n",
    "render(cells=cells, coordinates=points,\n",
    "       emission=f, emission_lut=emission_lut,\n",
    "       cell_indicators=cell_indicators, method=\"cells\")"
   ]
  },
  {
   "cell_type": "code",
   "execution_count": null,
   "metadata": {
    "collapsed": true,
    "scrolled": false
   },
   "outputs": [],
   "source": [
    "emission_lut = [1,0,0, 0,0,1]\n",
    "\n",
    "render(cells=cells, coordinates=points,\n",
    "       emission=f, emission_lut=emission_lut,\n",
    "       method=\"isosurface\")"
   ]
  },
  {
   "cell_type": "code",
   "execution_count": null,
   "metadata": {
    "collapsed": true
   },
   "outputs": [],
   "source": [
    "emission = xd\n",
    "emission_lut = [1,1,1, 0,1,1, 1,1,1, 1,1,1,\n",
    "                1,1,1, 1,0,1, 1,1,1, 1,1,1,\n",
    "                1,1,1, 1,1,0, 1,1,1, 1,1,1]\n",
    "\n",
    "render(cells=cells, coordinates=points,\n",
    "       emission=emission, emission_lut=emission_lut,\n",
    "       method=\"min\")"
   ]
  },
  {
   "cell_type": "code",
   "execution_count": null,
   "metadata": {
    "collapsed": true
   },
   "outputs": [],
   "source": [
    "emission = xd\n",
    "emission_lut = [0,0,0, 1,0,0, 0,0,0, 0,0,0,\n",
    "                0,0,0, 0,1,0, 0,0,0, 0,0,0,\n",
    "                0,0,0, 0,0,1, 0,0,0, 0,0,0]\n",
    "render(cells=cells, coordinates=points,\n",
    "       emission=emission, emission_lut=emission_lut,\n",
    "       method=\"max\")"
   ]
  },
  {
   "cell_type": "code",
   "execution_count": null,
   "metadata": {
    "collapsed": true
   },
   "outputs": [],
   "source": [
    "render(cells=cells, coordinates=points,\n",
    "       density=np.ones(points.shape[0]), density_lut=[.2, .2],\n",
    "       method=\"xray2\")"
   ]
  },
  {
   "cell_type": "code",
   "execution_count": null,
   "metadata": {
    "collapsed": true
   },
   "outputs": [],
   "source": [
    "density_lut = [0, 0, 0, 0.01, 0, 0, 0, 0]\n",
    "\n",
    "render(cells=cells, coordinates=points,\n",
    "       density=f, density_lut=density_lut,\n",
    "       method=\"xray2\")"
   ]
  },
  {
   "cell_type": "code",
   "execution_count": null,
   "metadata": {
    "collapsed": true
   },
   "outputs": [],
   "source": []
  }
 ],
 "metadata": {
  "kernelspec": {
   "display_name": "Python 3",
   "language": "python",
   "name": "python3"
  },
  "language_info": {
   "codemirror_mode": {
    "name": "ipython",
    "version": 3
   },
   "file_extension": ".py",
   "mimetype": "text/x-python",
   "name": "python",
   "nbconvert_exporter": "python",
   "pygments_lexer": "ipython3",
   "version": "3.5.2"
  }
 },
 "nbformat": 4,
 "nbformat_minor": 2
}
