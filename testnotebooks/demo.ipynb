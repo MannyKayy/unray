{
 "cells": [
  {
   "cell_type": "code",
   "execution_count": 1,
   "metadata": {
    "collapsed": true
   },
   "outputs": [],
   "source": [
    "from unray import render\n",
    "import numpy as np\n",
    "\n",
    "# Some values in notebook below are adjusted to the heart model but the code is generic\n",
    "#filename = \"data/heart.npz\"\n",
    "filename = \"data/brain.npz\"\n",
    "#filename = \"data/aneurysm.npz\"\n",
    "\n",
    "mesh = np.load(filename)\n",
    "cells = mesh[\"cells\"]\n",
    "points = mesh[\"points\"]\n",
    "\n",
    "# Coordinates of all vertices in mesh\n",
    "x = list(points.T)  # x[2] = z coordinate array for all vertices\n",
    "\n",
    "# Model center 3d vector\n",
    "center = list(map(lambda x: x.mean(), x))\n",
    "\n",
    "# Model min/max coordinates\n",
    "bbox = list(map(lambda x: (x.min(), x.max()), x))\n",
    "\n",
    "# Coordinates with origo shifted to center of model\n",
    "xm = list(map(lambda x, mp: x - mp, x, center))\n",
    "\n",
    "# Distance from model center\n",
    "xd = np.sqrt(sum(map(lambda x: x**2, xm)))\n",
    "radius = xd.max()\n",
    "\n",
    "# Distance from center, normalized to max 1.0\n",
    "func_dist = xd / radius\n",
    "\n",
    "# A constant for all vertices\n",
    "func_const = np.ones(x[0].shape)\n",
    "\n",
    "# x coordinate\n",
    "func_x = x[0]\n",
    "\n",
    "# A wave pattern from the center of the model\n",
    "freq = 4\n",
    "func_wave = 2.0 + np.sin((freq * 2 * np.pi / radius) * xd)"
   ]
  },
  {
   "cell_type": "code",
   "execution_count": 2,
   "metadata": {},
   "outputs": [
    {
     "data": {
      "text/plain": [
       "(611676, 4)"
      ]
     },
     "execution_count": 2,
     "metadata": {},
     "output_type": "execute_result"
    }
   ],
   "source": [
    "cells.shape"
   ]
  },
  {
   "cell_type": "code",
   "execution_count": null,
   "metadata": {},
   "outputs": [],
   "source": [
    "render(cells=cells, coordinates=points, method=\"cells\")"
   ]
  },
  {
   "cell_type": "code",
   "execution_count": 5,
   "metadata": {},
   "outputs": [
    {
     "data": {
      "application/vnd.jupyter.widget-view+json": {
       "model_id": "d1a6b48d2ab645c6b14bc5f315dc8bae",
       "version_major": 2,
       "version_minor": 0
      },
      "text/plain": [
       "A Jupyter Widget"
      ]
     },
     "metadata": {},
     "output_type": "display_data"
    }
   ],
   "source": [
    "emission_lut = np.array([1,0,0, 0,0,1], dtype='float32')\n",
    "\n",
    "render(cells=cells, coordinates=points,\n",
    "       emission=func_wave, emission_lut=emission_lut,\n",
    "       method=\"surface\")"
   ]
  },
  {
   "cell_type": "code",
   "execution_count": 19,
   "metadata": {},
   "outputs": [
    {
     "data": {
      "application/vnd.jupyter.widget-view+json": {
       "model_id": "4a07ddb3bdde48aebe1fd05a4b8aada3",
       "version_major": 2,
       "version_minor": 0
      },
      "text/plain": [
       "A Jupyter Widget"
      ]
     },
     "metadata": {},
     "output_type": "display_data"
    }
   ],
   "source": [
    "n = cells.shape[0]\n",
    "cell_indicators = np.ones(n, dtype='int32')\n",
    "\n",
    "render(cells=cells, coordinates=points,\n",
    "       emission=func_wave, emission_lut=emission_lut,\n",
    "       cell_indicators=cell_indicators, method=\"cells\")"
   ]
  },
  {
   "cell_type": "code",
   "execution_count": 7,
   "metadata": {
    "scrolled": false
   },
   "outputs": [
    {
     "data": {
      "application/vnd.jupyter.widget-view+json": {
       "model_id": "4eb37144d4414fb4b0a7d107c503fbc4",
       "version_major": 2,
       "version_minor": 0
      },
      "text/plain": [
       "A Jupyter Widget"
      ]
     },
     "metadata": {},
     "output_type": "display_data"
    }
   ],
   "source": [
    "emission_lut = np.array([1,0,0, 0,0,1], dtype='float32')\n",
    "\n",
    "render(cells=cells, coordinates=points,\n",
    "       emission=func_wave, emission_lut=emission_lut,\n",
    "       method=\"isosurface\")"
   ]
  },
  {
   "cell_type": "code",
   "execution_count": 8,
   "metadata": {},
   "outputs": [
    {
     "data": {
      "application/vnd.jupyter.widget-view+json": {
       "model_id": "aa417914a9244a578336ef3f646dbf54",
       "version_major": 2,
       "version_minor": 0
      },
      "text/plain": [
       "A Jupyter Widget"
      ]
     },
     "metadata": {},
     "output_type": "display_data"
    }
   ],
   "source": [
    "render(cells=cells, coordinates=points,\n",
    "       density=func_dist, density_lut=[.2, .3],\n",
    "       method=\"xray2\", width=800, height=800)"
   ]
  },
  {
   "cell_type": "code",
   "execution_count": 9,
   "metadata": {},
   "outputs": [
    {
     "data": {
      "application/vnd.jupyter.widget-view+json": {
       "model_id": "ec413c3d831d45b886a598c78c9b8a2c",
       "version_major": 2,
       "version_minor": 0
      },
      "text/plain": [
       "A Jupyter Widget"
      ]
     },
     "metadata": {},
     "output_type": "display_data"
    }
   ],
   "source": [
    "emission_lut = 0.3 * np.array(\n",
    "    [1,1,1, 1,1,1, 1,1,1, 1,1,1,\n",
    "     1,1,1, 1,1,0, 1,1,1, 1,1,1,\n",
    "     1,1,1, 1,1,1, 1,1,1, 1,1,1])\n",
    "\n",
    "render(cells=cells, coordinates=points,\n",
    "       emission=func_dist, emission_lut=emission_lut,\n",
    "       method=\"sum\")"
   ]
  },
  {
   "cell_type": "code",
   "execution_count": 10,
   "metadata": {},
   "outputs": [
    {
     "data": {
      "application/vnd.jupyter.widget-view+json": {
       "model_id": "a3b7288f8f46429397dd476ce8c84e18",
       "version_major": 2,
       "version_minor": 0
      },
      "text/plain": [
       "A Jupyter Widget"
      ]
     },
     "metadata": {},
     "output_type": "display_data"
    }
   ],
   "source": [
    "#emission_lut = [1,1,1, 1,1,1, 1,1,1, 1,1,1,\n",
    "#                1,1,1, 1,0,1, 1,1,1, 1,1,1,\n",
    "#                1,1,1, 1,1,1, 1,1,1, 1,1,1]\n",
    "#emission_lut = [1,1,1, 0.5,0.5,0.5, 1,1,1]\n",
    "emission_lut = np.array([1,1,0, 0,0,1], dtype='float32')\n",
    "\n",
    "render(cells=cells, coordinates=points,\n",
    "       emission=func_dist, emission_lut=emission_lut,\n",
    "       method=\"min\")"
   ]
  },
  {
   "cell_type": "code",
   "execution_count": 11,
   "metadata": {},
   "outputs": [
    {
     "data": {
      "application/vnd.jupyter.widget-view+json": {
       "model_id": "35c8c03e15f642e28d9fa76c1a386b74",
       "version_major": 2,
       "version_minor": 0
      },
      "text/plain": [
       "A Jupyter Widget"
      ]
     },
     "metadata": {},
     "output_type": "display_data"
    }
   ],
   "source": [
    "emission_lut = np.array([1,1,0, 0,0,1], dtype='float32')\n",
    "\n",
    "emission_lut = np.array([1,1,1, 1,1,1, 1,1,1, 0,0,0], dtype='float32')\n",
    "\n",
    "render(cells=cells, coordinates=points,\n",
    "       emission=func_dist, emission_lut=emission_lut,\n",
    "       method=\"min\")"
   ]
  },
  {
   "cell_type": "code",
   "execution_count": 12,
   "metadata": {},
   "outputs": [
    {
     "data": {
      "application/vnd.jupyter.widget-view+json": {
       "model_id": "34720faa179d48f7aa32e7e504e6ed6b",
       "version_major": 2,
       "version_minor": 0
      },
      "text/plain": [
       "A Jupyter Widget"
      ]
     },
     "metadata": {},
     "output_type": "display_data"
    }
   ],
   "source": [
    "tmp = np.zeros(256*3, dtype='float32')\n",
    "for i in range(15):\n",
    "    tmp[3*i::3*64] = 1.0\n",
    "emission_lut = 0.2 + 0.8 * tmp\n",
    "render(cells=cells, coordinates=points,\n",
    "       emission=func_x, emission_lut=emission_lut,\n",
    "       method=\"max\")"
   ]
  },
  {
   "cell_type": "code",
   "execution_count": 13,
   "metadata": {},
   "outputs": [
    {
     "data": {
      "application/vnd.jupyter.widget-view+json": {
       "model_id": "01987154fb3b486d91577701297daee6",
       "version_major": 2,
       "version_minor": 0
      },
      "text/plain": [
       "A Jupyter Widget"
      ]
     },
     "metadata": {},
     "output_type": "display_data"
    }
   ],
   "source": [
    "emission_lut = 0.2 + 0.8 * np.array(\n",
    "    [0,0,0, 0,0,0, 0,1,0, 0,1,0, 0,0,0,\n",
    "     0,0,0, 0,0,0, 0,1,0, 0,1,0, 0,0,0,\n",
    "     0,0,0, 0,0,0, 0,1,0, 0,1,0, 0,0,0, 0,0,0], dtype='float32')\n",
    "render(cells=cells, coordinates=points,\n",
    "       emission=func_x, emission_lut=emission_lut,\n",
    "       method=\"max\")"
   ]
  },
  {
   "cell_type": "code",
   "execution_count": 14,
   "metadata": {},
   "outputs": [
    {
     "data": {
      "application/vnd.jupyter.widget-view+json": {
       "model_id": "1a344d865f68420eaf07154a901598c1",
       "version_major": 2,
       "version_minor": 0
      },
      "text/plain": [
       "A Jupyter Widget"
      ]
     },
     "metadata": {},
     "output_type": "display_data"
    }
   ],
   "source": [
    "# Psychedelic debugging case\n",
    "emission_lut = 0.2 + 0.8 * np.array(\n",
    "    [0,0,0, 0,0,.5, 0,1,0, .5,0,0, 0,0,0,\n",
    "     0,0,0, 0,0,.5, 0,1,0, .5,0,0, 0,0,0,\n",
    "     0,0,0, 0,0,.5, 0,1,0, .5,0,0, 0,0,0, 0,0,0], dtype='float32')\n",
    "\n",
    "render(cells=cells, coordinates=points,\n",
    "       emission=func_x, emission_lut=emission_lut,\n",
    "       method=\"max\")"
   ]
  },
  {
   "cell_type": "code",
   "execution_count": 15,
   "metadata": {},
   "outputs": [
    {
     "data": {
      "application/vnd.jupyter.widget-view+json": {
       "model_id": "33c30b50473e406f8158f87deb2579c1",
       "version_major": 2,
       "version_minor": 0
      },
      "text/plain": [
       "A Jupyter Widget"
      ]
     },
     "metadata": {},
     "output_type": "display_data"
    }
   ],
   "source": [
    "emission_lut = 0.5*np.ones(3*256, dtype='float32')\n",
    "render(cells=cells, coordinates=points,\n",
    "       emission=func_wave, emission_lut=emission_lut,\n",
    "       method=\"max\")"
   ]
  },
  {
   "cell_type": "code",
   "execution_count": 16,
   "metadata": {},
   "outputs": [
    {
     "data": {
      "application/vnd.jupyter.widget-view+json": {
       "model_id": "13f73422a9b646c1a711a21c520618c8",
       "version_major": 2,
       "version_minor": 0
      },
      "text/plain": [
       "A Jupyter Widget"
      ]
     },
     "metadata": {},
     "output_type": "display_data"
    }
   ],
   "source": [
    "emission_lut = np.repeat(np.linspace(0.0, 1.0, 256, dtype='float32'), 3)\n",
    "render(cells=cells, coordinates=points,\n",
    "       emission=func_wave, emission_lut=emission_lut,\n",
    "       method=\"max\")"
   ]
  },
  {
   "cell_type": "code",
   "execution_count": null,
   "metadata": {
    "collapsed": true
   },
   "outputs": [],
   "source": [
    "import numpy"
   ]
  },
  {
   "cell_type": "code",
   "execution_count": null,
   "metadata": {
    "collapsed": true
   },
   "outputs": [],
   "source": [
    "numpy.repeat(np.ones(3), 2)"
   ]
  },
  {
   "cell_type": "code",
   "execution_count": null,
   "metadata": {
    "collapsed": true
   },
   "outputs": [],
   "source": [
    "numpy.stack([np.ones(3)]*2).shape"
   ]
  },
  {
   "cell_type": "code",
   "execution_count": null,
   "metadata": {
    "collapsed": true
   },
   "outputs": [],
   "source": []
  }
 ],
 "metadata": {
  "kernelspec": {
   "display_name": "Python 3",
   "language": "python",
   "name": "python3"
  },
  "language_info": {
   "codemirror_mode": {
    "name": "ipython",
    "version": 3
   },
   "file_extension": ".py",
   "mimetype": "text/x-python",
   "name": "python",
   "nbconvert_exporter": "python",
   "pygments_lexer": "ipython3",
   "version": "3.5.2"
  }
 },
 "nbformat": 4,
 "nbformat_minor": 2
}
