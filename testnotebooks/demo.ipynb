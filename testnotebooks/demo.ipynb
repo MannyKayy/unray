{
 "cells": [
  {
   "cell_type": "code",
   "execution_count": 1,
   "metadata": {},
   "outputs": [],
   "source": [
    "from unray import render\n",
    "import numpy as np\n",
    "import pylab as pl\n",
    "\n",
    "# Some values in notebook below are adjusted to the heart model but the code is generic\n",
    "filename = \"data/heart.npz\"\n",
    "#filename = \"data/brain.npz\"\n",
    "#filename = \"data/aneurysm.npz\"\n",
    "\n",
    "mesh = np.load(filename)\n",
    "cells = mesh[\"cells\"]\n",
    "points = mesh[\"points\"]\n",
    "\n",
    "# Coordinates of all vertices in mesh\n",
    "x = list(points.T)  # x[2] = z coordinate array for all vertices\n",
    "\n",
    "# Model center 3d vector\n",
    "center = list(map(lambda x: x.mean(), x))\n",
    "\n",
    "# Model min/max coordinates\n",
    "bbox = list(map(lambda x: (x.min(), x.max()), x))\n",
    "\n",
    "# Coordinates with origo shifted to center of model\n",
    "xm = list(map(lambda x, mp: x - mp, x, center))\n",
    "\n",
    "# Distance from model center\n",
    "xd = np.sqrt(sum(map(lambda x: x**2, xm)))\n",
    "radius = xd.max()\n",
    "\n",
    "# Distance from center, normalized to max 1.0\n",
    "func_dist = xd / radius\n",
    "\n",
    "# A constant for all vertices\n",
    "func_const = np.ones(x[0].shape)\n",
    "\n",
    "# x coordinate\n",
    "func_x = x[0]\n",
    "\n",
    "# A wave pattern from the center of the model\n",
    "freq = 4\n",
    "func_wave = 2.0 + np.sin((freq * 2 * np.pi / radius) * xd)"
   ]
  },
  {
   "cell_type": "code",
   "execution_count": 2,
   "metadata": {},
   "outputs": [
    {
     "data": {
      "text/plain": [
       "(8401, 4)"
      ]
     },
     "execution_count": 2,
     "metadata": {},
     "output_type": "execute_result"
    }
   ],
   "source": [
    "cells.shape"
   ]
  },
  {
   "cell_type": "code",
   "execution_count": 3,
   "metadata": {},
   "outputs": [
    {
     "data": {
      "application/vnd.jupyter.widget-view+json": {
       "model_id": "32d3089aa75c491685b52747b1e5e7b0",
       "version_major": 2,
       "version_minor": 0
      },
      "text/plain": [
       "A Jupyter Widget"
      ]
     },
     "metadata": {},
     "output_type": "display_data"
    }
   ],
   "source": [
    "emission_lut = [1,0,0, 0,0,1]\n",
    "\n",
    "render(cells=cells, coordinates=points,\n",
    "       emission=func_wave, emission_lut=emission_lut,\n",
    "       method=\"surface\")"
   ]
  },
  {
   "cell_type": "code",
   "execution_count": 4,
   "metadata": {},
   "outputs": [
    {
     "data": {
      "application/vnd.jupyter.widget-view+json": {
       "model_id": "591f3b95a2dd45f08efac8c70a9fc339",
       "version_major": 2,
       "version_minor": 0
      },
      "text/plain": [
       "A Jupyter Widget"
      ]
     },
     "metadata": {},
     "output_type": "display_data"
    }
   ],
   "source": [
    "n = cells.shape[0]\n",
    "cell_indicators = np.ones(n, dtype='int32')\n",
    "\n",
    "render(cells=cells, coordinates=points,\n",
    "       emission=func_wave, emission_lut=emission_lut,\n",
    "       cell_indicators=cell_indicators, method=\"cells\")"
   ]
  },
  {
   "cell_type": "code",
   "execution_count": 5,
   "metadata": {
    "scrolled": false
   },
   "outputs": [
    {
     "data": {
      "application/vnd.jupyter.widget-view+json": {
       "model_id": "3fcb68931fdf4051b8849ca190926faf",
       "version_major": 2,
       "version_minor": 0
      },
      "text/plain": [
       "A Jupyter Widget"
      ]
     },
     "metadata": {},
     "output_type": "display_data"
    }
   ],
   "source": [
    "emission_lut = [1,0,0, 0,0,1]\n",
    "\n",
    "render(cells=cells, coordinates=points,\n",
    "       emission=func_wave, emission_lut=emission_lut,\n",
    "       method=\"isosurface\")"
   ]
  },
  {
   "cell_type": "code",
   "execution_count": 6,
   "metadata": {},
   "outputs": [
    {
     "data": {
      "application/vnd.jupyter.widget-view+json": {
       "model_id": "5ba83d93e5e3408d959452780ab68609",
       "version_major": 2,
       "version_minor": 0
      },
      "text/plain": [
       "A Jupyter Widget"
      ]
     },
     "metadata": {},
     "output_type": "display_data"
    }
   ],
   "source": [
    "render(cells=cells, coordinates=points,\n",
    "       density=func_dist, density_lut=[.2, .3],\n",
    "       method=\"xray2\", width=800, height=800)"
   ]
  },
  {
   "cell_type": "code",
   "execution_count": 7,
   "metadata": {},
   "outputs": [
    {
     "data": {
      "application/vnd.jupyter.widget-view+json": {
       "model_id": "5f16ac38a00e49529318d19103f11745",
       "version_major": 2,
       "version_minor": 0
      },
      "text/plain": [
       "A Jupyter Widget"
      ]
     },
     "metadata": {},
     "output_type": "display_data"
    }
   ],
   "source": [
    "emission_lut = 0.3 * np.array(\n",
    "    [1,1,1, 1,1,1, 1,1,1, 1,1,1,\n",
    "     1,1,1, 1,1,0, 1,1,1, 1,1,1,\n",
    "     1,1,1, 1,1,1, 1,1,1, 1,1,1])\n",
    "\n",
    "render(cells=cells, coordinates=points,\n",
    "       emission=func_dist, emission_lut=emission_lut,\n",
    "       method=\"sum\")"
   ]
  },
  {
   "cell_type": "code",
   "execution_count": 8,
   "metadata": {},
   "outputs": [
    {
     "data": {
      "application/vnd.jupyter.widget-view+json": {
       "model_id": "bd13e7880d804a2492e86246884612c3",
       "version_major": 2,
       "version_minor": 0
      },
      "text/plain": [
       "A Jupyter Widget"
      ]
     },
     "metadata": {},
     "output_type": "display_data"
    }
   ],
   "source": [
    "#emission_lut = [1,1,1, 1,1,1, 1,1,1, 1,1,1,\n",
    "#                1,1,1, 1,0,1, 1,1,1, 1,1,1,\n",
    "#                1,1,1, 1,1,1, 1,1,1, 1,1,1]\n",
    "#emission_lut = [1,1,1, 0.5,0.5,0.5, 1,1,1]\n",
    "emission_lut = [1,1,0, 0,0,1]\n",
    "\n",
    "render(cells=cells, coordinates=points,\n",
    "       emission=func_dist, emission_lut=emission_lut,\n",
    "       method=\"min\")"
   ]
  },
  {
   "cell_type": "code",
   "execution_count": 9,
   "metadata": {},
   "outputs": [
    {
     "data": {
      "application/vnd.jupyter.widget-view+json": {
       "model_id": "9e89bf897627440b808ec3a04f0795d3",
       "version_major": 2,
       "version_minor": 0
      },
      "text/plain": [
       "A Jupyter Widget"
      ]
     },
     "metadata": {},
     "output_type": "display_data"
    }
   ],
   "source": [
    "emission_lut = [1,1,0, 0,0,1]\n",
    "\n",
    "emission_lut = [1,1,1, 1,1,1, 1,1,1, 0,0,0]\n",
    "\n",
    "render(cells=cells, coordinates=points,\n",
    "       emission=func_dist, emission_lut=emission_lut,\n",
    "       method=\"min\")"
   ]
  },
  {
   "cell_type": "code",
   "execution_count": 10,
   "metadata": {},
   "outputs": [
    {
     "data": {
      "application/vnd.jupyter.widget-view+json": {
       "model_id": "d5cc1a93ab564cbc81d4166d28aa2448",
       "version_major": 2,
       "version_minor": 0
      },
      "text/plain": [
       "A Jupyter Widget"
      ]
     },
     "metadata": {},
     "output_type": "display_data"
    }
   ],
   "source": [
    "# Psychedelic debugging case\n",
    "emission_lut = 0.2 + 0.8 * np.array(\n",
    "    [0,0,0, 0,0,.5, 0,1,0, .5,0,0, 0,0,0,\n",
    "     0,0,0, 0,0,.5, 0,1,0, .5,0,0, 0,0,0,\n",
    "     0,0,0, 0,0,.5, 0,1,0, .5,0,0, 0,0,0, 0,0,0], dtype='float32')\n",
    "\n",
    "emission_lut = 0.2 + 0.8 * np.array(\n",
    "    [0,0,0, 0,0,0, 0,1,0, 0,1,0, 0,0,0,\n",
    "     0,0,0, 0,0,0, 0,1,0, 0,1,0, 0,0,0,\n",
    "     0,0,0, 0,0,0, 0,1,0, 0,1,0, 0,0,0, 0,0,0], dtype='float32')\n",
    "\n",
    "tmp = np.zeros(256*3, dtype='float32')\n",
    "for i in range(15):\n",
    "    tmp[3*i::3*64] = 1.0\n",
    "emission_lut = 0.2 + 0.8 * tmp\n",
    "\n",
    "render(cells=cells, coordinates=points,\n",
    "       emission=func_x, emission_lut=emission_lut,\n",
    "       method=\"max\")"
   ]
  },
  {
   "cell_type": "code",
   "execution_count": null,
   "metadata": {},
   "outputs": [],
   "source": []
  },
  {
   "cell_type": "code",
   "execution_count": null,
   "metadata": {},
   "outputs": [],
   "source": []
  }
 ],
 "metadata": {
  "kernelspec": {
   "display_name": "Python 3",
   "language": "python",
   "name": "python3"
  },
  "language_info": {
   "codemirror_mode": {
    "name": "ipython",
    "version": 3
   },
   "file_extension": ".py",
   "mimetype": "text/x-python",
   "name": "python",
   "nbconvert_exporter": "python",
   "pygments_lexer": "ipython3",
   "version": "3.5.2"
  }
 },
 "nbformat": 4,
 "nbformat_minor": 2
}
