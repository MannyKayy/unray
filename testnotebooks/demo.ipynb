{
 "cells": [
  {
   "cell_type": "code",
   "execution_count": null,
   "metadata": {
    "collapsed": true
   },
   "outputs": [],
   "source": [
    "from unray import render\n",
    "import numpy as np\n",
    "import pylab as pl"
   ]
  },
  {
   "cell_type": "code",
   "execution_count": null,
   "metadata": {},
   "outputs": [],
   "source": [
    "# TODO: Rename files to something cleaner\n",
    "#filename = \"data/heart.npz\"\n",
    "filename = \"data/brain.npz\"\n",
    "#filename = \"data/dog_mesh_97k.npz\"\n",
    "\n",
    "mesh = np.load(filename)\n",
    "cells = mesh[\"cells\"]\n",
    "points = mesh[\"points\"]"
   ]
  },
  {
   "cell_type": "code",
   "execution_count": null,
   "metadata": {},
   "outputs": [],
   "source": [
    "# Compute a function of the points\n",
    "x = [points[:,i] for i in range(3)]\n",
    "\n",
    "bbox = np.array([[x[i].min(), x[i].max()] for i in range(3)])\n",
    "xs = [(x[i] - bbox[i,0]) / (bbox[i,1] - bbox[i,0]) for i in range(3)]\n",
    "\n",
    "midpoint = np.array([x[i].mean() for i in range(3)])\n",
    "xm = [(x[i] - midpoint[i]) / (bbox[i,1] - bbox[i,0]) for i in range(3)]\n",
    "\n",
    "xd = np.sqrt(sum(xm[i]**2 for i in range(3)))\n",
    "xd /= xd.max()"
   ]
  },
  {
   "cell_type": "code",
   "execution_count": null,
   "metadata": {
    "collapsed": true
   },
   "outputs": [],
   "source": [
    "c = 0.1 * np.ones(x[0].shape)\n",
    "\n",
    "freq = 4\n",
    "f = 2.0 + np.sin(freq * 2 * np.pi * xd)"
   ]
  },
  {
   "cell_type": "code",
   "execution_count": null,
   "metadata": {},
   "outputs": [],
   "source": [
    "pl.scatter(xd, f)\n",
    "pl.show()"
   ]
  },
  {
   "cell_type": "code",
   "execution_count": null,
   "metadata": {},
   "outputs": [],
   "source": [
    "emission_lut = [1,0,0, 0,0,1]\n",
    "\n",
    "render(cells=cells, coordinates=points,\n",
    "       emission=f, emission_lut=emission_lut,\n",
    "       method=\"surface\")"
   ]
  },
  {
   "cell_type": "code",
   "execution_count": null,
   "metadata": {},
   "outputs": [],
   "source": [
    "n = cells.shape[0]\n",
    "cell_indicators = np.ones(n, dtype='int32')\n",
    "cell_indicators[np.where(points[cells[:,0],0] < midpoint[0])] = 0\n",
    "render(cells=cells, coordinates=points,\n",
    "       emission=f, emission_lut=emission_lut,\n",
    "       cell_indicators=cell_indicators, method=\"cells\")"
   ]
  },
  {
   "cell_type": "code",
   "execution_count": null,
   "metadata": {
    "scrolled": false
   },
   "outputs": [],
   "source": [
    "emission_lut = [1,0,0, 0,0,1]\n",
    "\n",
    "render(cells=cells, coordinates=points,\n",
    "       emission=f, emission_lut=emission_lut,\n",
    "       method=\"isosurface\")"
   ]
  },
  {
   "cell_type": "code",
   "execution_count": null,
   "metadata": {},
   "outputs": [],
   "source": [
    "emission = xd\n",
    "emission_lut = [1,1,1, 0,1,1, 1,1,1, 1,1,1,\n",
    "                1,1,1, 1,0,1, 1,1,1, 1,1,1,\n",
    "                1,1,1, 1,1,0, 1,1,1, 1,1,1]\n",
    "\n",
    "render(cells=cells, coordinates=points,\n",
    "       emission=emission, emission_lut=emission_lut,\n",
    "       method=\"min\")"
   ]
  },
  {
   "cell_type": "code",
   "execution_count": null,
   "metadata": {},
   "outputs": [],
   "source": [
    "emission = xd\n",
    "emission_lut = [0,0,0, 1,0,0, 0,0,0, 0,0,0,\n",
    "                0,0,0, 0,1,0, 0,0,0, 0,0,0,\n",
    "                0,0,0, 0,0,1, 0,0,0, 0,0,0]\n",
    "render(cells=cells, coordinates=points,\n",
    "       emission=emission, emission_lut=emission_lut,\n",
    "       method=\"max\")"
   ]
  },
  {
   "cell_type": "code",
   "execution_count": null,
   "metadata": {},
   "outputs": [],
   "source": [
    "render(cells=cells, coordinates=points,\n",
    "       density=np.ones(points.shape[0]), density_lut=[.01, .01],\n",
    "       method=\"xray2\")"
   ]
  },
  {
   "cell_type": "code",
   "execution_count": null,
   "metadata": {},
   "outputs": [],
   "source": [
    "density_lut = [0, 0, 0, 0.01, 0, 0, 0, 0]\n",
    "\n",
    "render(cells=cells, coordinates=points,\n",
    "       density=f, density_lut=density_lut,\n",
    "       method=\"xray2\")"
   ]
  },
  {
   "cell_type": "code",
   "execution_count": null,
   "metadata": {
    "collapsed": true
   },
   "outputs": [],
   "source": []
  }
 ],
 "metadata": {
  "kernelspec": {
   "display_name": "Python 3",
   "language": "python",
   "name": "python3"
  },
  "language_info": {
   "codemirror_mode": {
    "name": "ipython",
    "version": 3
   },
   "file_extension": ".py",
   "mimetype": "text/x-python",
   "name": "python",
   "nbconvert_exporter": "python",
   "pygments_lexer": "ipython3",
   "version": "3.5.2"
  }
 },
 "nbformat": 4,
 "nbformat_minor": 2
}
