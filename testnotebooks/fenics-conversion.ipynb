{
 "cells": [
  {
   "cell_type": "code",
   "execution_count": null,
   "metadata": {},
   "outputs": [],
   "source": [
    "import numpy as np\n",
    "import dolfin as fe\n",
    "import unray as ur\n",
    "\n",
    "def mesh_from_fenics(obj):\n",
    "    if isinstance(obj, fe.Function):\n",
    "        obj = obj.function_space().mesh()\n",
    "    if isinstance(obj, fe.MeshFunctionSizet):\n",
    "        obj = obj.mesh()\n",
    "    assert isinstance(obj, fe.Mesh)\n",
    "    cells = obj.cells()\n",
    "    points = obj.coordinates()\n",
    "    cells = np.asarray(cells, dtype=\"int32\")\n",
    "    points = np.asarray(points, dtype=\"float32\")\n",
    "    mesh = ur.Mesh(cells=cells, points=points)\n",
    "    return mesh\n",
    "\n",
    "def field_from_fenics(obj, mesh):\n",
    "    assert isinstance(obj, fe.Function)\n",
    "    assert isinstance(mesh, ur.Mesh)\n",
    "    # TODO: support P0 and D1 spaces\n",
    "    values = obj.compute_vertex_values()\n",
    "    values = np.asarray(values, dtype=\"float32\")\n",
    "    field = ur.Field(mesh=mesh, values=values, space=\"P1\")\n",
    "    return field\n",
    "\n",
    "def indicator_field_from_fenics(obj, mesh):\n",
    "    assert isinstance(obj, fe.MeshFunctionSizet)\n",
    "    assert isinstance(mesh, ur.Mesh)\n",
    "    values = obj.array()\n",
    "    values = np.asarray(values, dtype=\"int32\")\n",
    "    space = \"I%d\" % obj.dim()\n",
    "    field = ur.IndicatorField(mesh=mesh, values=values, space=space)\n",
    "    return field"
   ]
  },
  {
   "cell_type": "code",
   "execution_count": null,
   "metadata": {},
   "outputs": [],
   "source": [
    "mesh = fe.UnitCubeMesh(1, 1, 1)\n",
    "\n",
    "V0 = fe.FunctionSpace(mesh, \"DP\", 0)\n",
    "f0 = fe.Function(V0)\n",
    "f0.interpolate(fe.Expression(\"x[0]\", degree=1))\n",
    "\n",
    "V1 = fe.FunctionSpace(mesh, \"DP\", 1)\n",
    "f1 = fe.Function(V1)\n",
    "f1.interpolate(fe.Expression(\"x[0]\", degree=1))\n",
    "\n",
    "V2 = fe.FunctionSpace(mesh, \"P\", 1)\n",
    "f2 = fe.Function(V2)\n",
    "f2.interpolate(fe.Expression(\"x[0]\", degree=1))\n",
    "\n",
    "cf = fe.CellFunctionSizet(mesh)\n",
    "cf.set_all(1)\n",
    "\n",
    "ff = fe.FacetFunctionSizet(mesh)\n",
    "ff.set_all(1)\n",
    "\n",
    "umesh = mesh_from_fenics(mesh)\n",
    "g0 = field_from_fenics(f0, mesh=umesh)\n",
    "g1 = field_from_fenics(f1, mesh=umesh)\n",
    "g2 = field_from_fenics(f2, mesh=umesh)\n",
    "ci = indicator_field_from_fenics(cf, mesh=umesh)\n",
    "fi = indicator_field_from_fenics(ff, mesh=umesh)\n",
    "\n",
    "assert g0.space == \"P1\"  # TODO: P0\n",
    "assert g1.space == \"P1\"\n",
    "assert g2.space == \"P1\"  # TODO: D0\n",
    "assert ci.space == \"I3\"\n",
    "assert fi.space == \"I2\""
   ]
  },
  {
   "cell_type": "code",
   "execution_count": null,
   "metadata": {},
   "outputs": [],
   "source": [
    "lut = ur.ArrayColorLUT(values=[[0,0,1], [1,0,0]])\n",
    "color = ur.ColorField(field=g1, lut=lut)\n",
    "restrict = ur.ScalarIndicators(field=ci, value=1)\n",
    "plot = ur.SurfacePlot(mesh=umesh, restrict=restrict, color=color)\n",
    "plot"
   ]
  },
  {
   "cell_type": "code",
   "execution_count": null,
   "metadata": {},
   "outputs": [],
   "source": []
  }
 ],
 "metadata": {
  "kernelspec": {
   "display_name": "Python 3",
   "language": "python",
   "name": "python3"
  },
  "language_info": {
   "codemirror_mode": {
    "name": "ipython",
    "version": 3
   },
   "file_extension": ".py",
   "mimetype": "text/x-python",
   "name": "python",
   "nbconvert_exporter": "python",
   "pygments_lexer": "ipython3",
   "version": "3.5.2"
  }
 },
 "nbformat": 4,
 "nbformat_minor": 2
}
