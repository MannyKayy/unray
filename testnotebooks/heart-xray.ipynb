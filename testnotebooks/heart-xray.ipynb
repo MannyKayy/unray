{
 "cells": [
  {
   "cell_type": "code",
   "execution_count": null,
   "metadata": {},
   "outputs": [],
   "source": [
    "import ipywidgets\n",
    "import IPython\n",
    "import unray\n",
    "import dolfin\n",
    "import numpy as np\n",
    "\n",
    "from dolfin import *\n",
    "from unray import Data, DataDisplay, render\n",
    "from IPython.display import display\n",
    "\n",
    "print(ipywidgets.__version__)\n",
    "print(IPython.__version__)\n",
    "print(unray.__version__)\n",
    "\n",
    "mesh = Mesh(\"data/heart_mesh.xml.gz\")\n",
    "r = 3\n",
    "for i in range(r):\n",
    "    mesh = refine(mesh)\n",
    "print(\"cells, vertices:\", mesh.num_cells(), mesh.num_vertices())\n",
    "\n",
    "\n",
    "V = FunctionSpace(mesh, \"P\", 1)\n",
    "\n",
    "\n",
    "#f = interpolate(Expression(\"x[0]\", degree=1), V)\n",
    "f = interpolate(Constant(\"0.5\"), V)\n",
    "\n",
    "\n",
    "mf = CellFunctionSizet(mesh)\n",
    "mf.set_all(0)\n",
    "class SD(SubDomain):\n",
    "    def inside(self, x, on_boundary):\n",
    "        return ((x[0]-5)**2 + (x[1]-0.3)**2 + (x[2]-0.3)**2) < 3**2\n",
    "SD().mark(mf, 10)\n",
    "\n",
    "\n",
    "cells = mesh.cells()\n",
    "coordinates = mesh.coordinates()\n",
    "cell_indicators = np.asarray(mf.array(), dtype=\"int32\")\n",
    "density = f.compute_vertex_values()\n",
    "density_lut = np.asarray([0.2, .8], dtype=\"float32\")\n",
    "emission = density"
   ]
  },
  {
   "cell_type": "code",
   "execution_count": null,
   "metadata": {},
   "outputs": [],
   "source": [
    "fig = render(coordinates, cells,\n",
    "             density=density, density_lut=density_lut,\n",
    "             width=64, height=64,\n",
    "             method=\"xray2\")\n",
    "fig.animate = True\n",
    "fig"
   ]
  },
  {
   "cell_type": "code",
   "execution_count": null,
   "metadata": {
    "collapsed": true
   },
   "outputs": [],
   "source": [
    "fig.animate = True"
   ]
  },
  {
   "cell_type": "code",
   "execution_count": null,
   "metadata": {
    "collapsed": true
   },
   "outputs": [],
   "source": [
    "fig.animate = False"
   ]
  },
  {
   "cell_type": "code",
   "execution_count": null,
   "metadata": {
    "collapsed": true
   },
   "outputs": [],
   "source": [
    "# max min avg\n",
    "# 10.9  5.4  8.1\n",
    "# 10.3  6.0  7.8\n",
    "# 10.5  6.25  7.97\n",
    "\n"
   ]
  }
 ],
 "metadata": {
  "kernelspec": {
   "display_name": "Python 3",
   "language": "python",
   "name": "python3"
  },
  "language_info": {
   "codemirror_mode": {
    "name": "ipython",
    "version": 3
   },
   "file_extension": ".py",
   "mimetype": "text/x-python",
   "name": "python",
   "nbconvert_exporter": "python",
   "pygments_lexer": "ipython3",
   "version": "3.5.2"
  }
 },
 "nbformat": 4,
 "nbformat_minor": 2
}
