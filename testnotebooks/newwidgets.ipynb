{
 "cells": [
  {
   "cell_type": "code",
   "execution_count": 1,
   "metadata": {},
   "outputs": [],
   "source": [
    "import numpy as np\n",
    "from unray.datawidgets import *\n",
    "from unray.plotwidgets import *\n",
    "from unray.newwidgets import *\n",
    "from ipydatawidgets import *\n",
    "import pythreejs as three"
   ]
  },
  {
   "cell_type": "code",
   "execution_count": 2,
   "metadata": {},
   "outputs": [],
   "source": [
    "filename = \"data/heart.npz\"\n",
    "#filename = \"data/brain.npz\"\n",
    "#filename = \"data/aneurysm.npz\"\n",
    "\n",
    "mesh_data = np.load(filename)\n",
    "cells_array = mesh_data[\"cells\"].astype(np.int32)\n",
    "points_array = mesh_data[\"points\"].astype(np.float32)\n",
    "\n",
    "# Coordinates of all vertices in mesh\n",
    "x = list(points_array.T)  # x[2] = z coordinate array for all vertices\n",
    "\n",
    "# Model center 3d vector\n",
    "center = list(map(lambda x: x.mean(), x))\n",
    "\n",
    "# Model min/max coordinates\n",
    "bbox = list(map(lambda x: (x.min(), x.max()), x))\n",
    "\n",
    "# Coordinates with origo shifted to center of model\n",
    "xm = list(map(lambda x, mp: x - mp, x, center))\n",
    "\n",
    "# Distance from model center\n",
    "xd = np.sqrt(sum(map(lambda x: x**2, xm)))\n",
    "radius = xd.max()\n",
    "\n",
    "# Distance from center, normalized to max 1.0\n",
    "func_dist = xd / radius\n",
    "\n",
    "# A constant for all vertices\n",
    "func_const = np.ones(x[0].shape)\n",
    "\n",
    "# x coordinate\n",
    "func_x = x[0]\n",
    "\n",
    "# A wave pattern from the center of the model\n",
    "freq = 4\n",
    "func_wave = 2.0 + np.sin((freq * 2 * np.pi / radius) * xd)"
   ]
  },
  {
   "cell_type": "code",
   "execution_count": 3,
   "metadata": {},
   "outputs": [],
   "source": [
    "cells = NDArrayWidget(cells_array)\n",
    "points = NDArrayWidget(points_array)\n",
    "mesh = Mesh(cells=cells, points=points)\n",
    "field = Field(mesh=mesh, values=func_wave)\n",
    "lut = ArrayColorLUT(values=[[1,0,0], [0,0,1]])"
   ]
  },
  {
   "cell_type": "code",
   "execution_count": 4,
   "metadata": {},
   "outputs": [
    {
     "data": {
      "application/vnd.jupyter.widget-view+json": {
       "model_id": "12e079a248d44d33a5f46b7fecdccbea",
       "version_major": 2,
       "version_minor": 0
      },
      "text/plain": [
       "A Jupyter Widget"
      ]
     },
     "metadata": {},
     "output_type": "display_data"
    }
   ],
   "source": [
    "width = 800\n",
    "height = 600\n",
    "camera = three.PerspectiveCamera(position=[10, 10, 10], aspect=width/height)\n",
    "key_light = three.DirectionalLight(position=[0, 10, 10])\n",
    "ambient = three.AmbientLight(intensity=0.5)\n",
    "scene = three.Scene(children=[key_light, ambient, camera], background='gray')\n",
    "controls = three.OrbitControls(camera)\n",
    "renderer = three.Renderer(scene, camera, [controls],\n",
    "                          width=width, height=height)\n",
    "renderer"
   ]
  },
  {
   "cell_type": "code",
   "execution_count": 5,
   "metadata": {},
   "outputs": [],
   "source": [
    "plot = surf(field, lut=lut)\n",
    "scene.add(plot)\n",
    "plot.position = [0, 9, 0]"
   ]
  },
  {
   "cell_type": "code",
   "execution_count": 6,
   "metadata": {},
   "outputs": [],
   "source": [
    "box = three.Mesh(three.BoxGeometry(1, 1, 1), three.MeshLambertMaterial(), position=[5, 0, 0])\n",
    "scene.add(box)"
   ]
  },
  {
   "cell_type": "code",
   "execution_count": 7,
   "metadata": {},
   "outputs": [],
   "source": [
    "renderer.background = 'white'"
   ]
  },
  {
   "cell_type": "code",
   "execution_count": 9,
   "metadata": {},
   "outputs": [],
   "source": [
    "C = ColorConstant()\n",
    "plot2 = XrayPlot(density=field, color=C)\n",
    "scene.add(plot2)"
   ]
  },
  {
   "cell_type": "code",
   "execution_count": 10,
   "metadata": {},
   "outputs": [],
   "source": [
    "plot0 = scene.children[3]\n",
    "plot1 = scene.children[4]\n",
    "plot2 = scene.children[6]"
   ]
  },
  {
   "cell_type": "code",
   "execution_count": 11,
   "metadata": {},
   "outputs": [],
   "source": [
    "plot0.visible = False\n",
    "plot1.visible = False"
   ]
  },
  {
   "cell_type": "code",
   "execution_count": 32,
   "metadata": {},
   "outputs": [
    {
     "data": {
      "text/plain": [
       "[(0, pythreejs.lights.DirectionalLight_autogen.DirectionalLight),\n",
       " (1, pythreejs.lights.AmbientLight_autogen.AmbientLight),\n",
       " (2, pythreejs.cameras.PerspectiveCamera_autogen.PerspectiveCamera),\n",
       " (3, unray.newwidgets.SurfacePlot),\n",
       " (4, unray.newwidgets.SurfacePlot),\n",
       " (5, pythreejs.objects.Mesh_autogen.Mesh),\n",
       " (6, unray.newwidgets.XrayPlot)]"
      ]
     },
     "execution_count": 32,
     "metadata": {},
     "output_type": "execute_result"
    }
   ],
   "source": [
    "[(i, type(c)) for i, c in enumerate(scene.children)]"
   ]
  },
  {
   "cell_type": "code",
   "execution_count": null,
   "metadata": {},
   "outputs": [],
   "source": []
  }
 ],
 "metadata": {
  "kernelspec": {
   "display_name": "Python 3",
   "language": "python",
   "name": "python3"
  },
  "language_info": {
   "codemirror_mode": {
    "name": "ipython",
    "version": 3
   },
   "file_extension": ".py",
   "mimetype": "text/x-python",
   "name": "python",
   "nbconvert_exporter": "python",
   "pygments_lexer": "ipython3",
   "version": "3.5.2"
  }
 },
 "nbformat": 4,
 "nbformat_minor": 2
}
