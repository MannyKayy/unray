{
 "cells": [
  {
   "cell_type": "code",
   "execution_count": null,
   "metadata": {},
   "outputs": [],
   "source": [
    "import numpy as np\n",
    "from unray import *\n",
    "from ipydatawidgets import *\n",
    "import pythreejs as three\n",
    "\n",
    "filename = \"data/heart.npz\"\n",
    "#filename = \"data/brain.npz\"\n",
    "#filename = \"data/aneurysm.npz\"\n",
    "\n",
    "mesh_data = np.load(filename)\n",
    "cells_array = mesh_data[\"cells\"].astype(np.int32)\n",
    "points_array = mesh_data[\"points\"].astype(np.float32)\n",
    "\n",
    "# Coordinates of all vertices in mesh\n",
    "x = list(points_array.T)  # x[2] = z coordinate array for all vertices\n",
    "\n",
    "# Model center 3d vector\n",
    "center = list(map(lambda x: x.mean(), x))\n",
    "\n",
    "# Model min/max coordinates\n",
    "bbox = list(map(lambda x: (x.min(), x.max()), x))\n",
    "\n",
    "# Coordinates with origo shifted to center of model\n",
    "xm = list(map(lambda x, mp: x - mp, x, center))\n",
    "\n",
    "# Distance from model center\n",
    "xd = np.sqrt(sum(map(lambda x: x**2, xm)))\n",
    "radius = xd.max()\n",
    "\n",
    "# Distance from center, normalized to max 1.0\n",
    "func_dist = xd / radius\n",
    "\n",
    "# A constant for all vertices\n",
    "func_const = np.ones(x[0].shape)\n",
    "\n",
    "# x coordinate\n",
    "func_x = x[0]\n",
    "\n",
    "# A wave pattern from the center of the model\n",
    "freq = 4\n",
    "func_wave = 2.0 + np.sin((freq * 2 * np.pi / radius) * xd)\n",
    "\n",
    "# Data widgets\n",
    "cells = NDArrayWidget(cells_array)\n",
    "points = NDArrayWidget(points_array)\n",
    "mesh = Mesh(cells=cells, points=points)\n",
    "\n",
    "field = Field(mesh=mesh, values=func_wave)\n",
    "color_lut = ArrayColorLUT(values=[[1,0,0], [0,0,1]])\n",
    "scalar_lut = ArrayScalarLUT(values=[0.2, 0.8])\n",
    "color_field = ColorField(field=field, lut=color_lut)\n",
    "scalar_field = ScalarField(field=field, lut=scalar_lut)\n",
    "\n",
    "# pythreejs setup\n",
    "width = 960\n",
    "height = 480\n",
    "camera = three.PerspectiveCamera(position=[10, 10, 10], aspect=width/height)\n",
    "key_light = three.DirectionalLight(position=[0, 10, 10])\n",
    "ambient = three.AmbientLight(intensity=0.5)\n",
    "scene = three.Scene(children=[key_light, ambient, camera], background='#dddddd')\n",
    "controls = three.OrbitControls(camera)\n",
    "renderer = three.Renderer(scene, camera, [controls],\n",
    "                          width=width, height=height)\n",
    "display(renderer)"
   ]
  },
  {
   "cell_type": "code",
   "execution_count": null,
   "metadata": {},
   "outputs": [],
   "source": [
    "scene.children = tuple(filter(lambda c: c._model_module != \"unray\", scene.children))\n",
    "\n",
    "# Testing default parameters with minimal arguments for all plots\n",
    "plots = [\n",
    "    SurfacePlot(mesh=mesh),\n",
    "    #MinPlot(mesh=mesh, color=color_field),\n",
    "    #MaxPlot(mesh=mesh, color=color_field),\n",
    "    #XrayPlot(mesh=mesh, density=ScalarConstant(value=0.0)),\n",
    "    #XrayPlot(mesh=mesh, density=ScalarConstant(value=0.01)),\n",
    "    #XrayPlot(mesh=mesh, density=ScalarConstant(value=0.1)),\n",
    "    #XrayPlot(mesh=mesh, density=ScalarConstant(value=1.0)),\n",
    "    #SumPlot(mesh=mesh, color=color_field),  # Doesn't work\n",
    "    #VolumePlot(mesh=mesh, color=color_field, density=scalar_field),  # Doesn't work\n",
    "]\n",
    "\n",
    "for n, p in enumerate(plots):\n",
    "    i = n % 2\n",
    "    j = (n // 2) % 2\n",
    "    k = n // 4\n",
    "    p.position = [i*12, j*11, k*11]\n",
    "    scene.add(p)"
   ]
  },
  {
   "cell_type": "code",
   "execution_count": null,
   "metadata": {},
   "outputs": [],
   "source": [
    "scene.children = tuple(filter(lambda c: c._model_module != \"unray\", scene.children))"
   ]
  },
  {
   "cell_type": "code",
   "execution_count": null,
   "metadata": {},
   "outputs": [],
   "source": [
    "for i in range(2):\n",
    "    for j in range(2):\n",
    "        for k in range(2):\n",
    "            I = ((i+1) * (j+1) * (k+1)) / 8.0\n",
    "            p = SurfacePlot(mesh=mesh, color=ColorConstant(intensity=I))\n",
    "            p.position = [i*12, j*11, k*11]\n",
    "            scene.add(p)"
   ]
  },
  {
   "cell_type": "code",
   "execution_count": null,
   "metadata": {},
   "outputs": [],
   "source": [
    "scene.children = tuple(filter(lambda c: c._model_module != \"unray\", scene.children))"
   ]
  },
  {
   "cell_type": "code",
   "execution_count": null,
   "metadata": {},
   "outputs": [],
   "source": [
    "for i in range(2):\n",
    "    for j in range(2):\n",
    "        for k in range(2):\n",
    "            I = 0.5 + k*0.5\n",
    "            C = \"rgb(%d, %d, %d)\" % (i*255, j*255, k*255)\n",
    "            print(C)\n",
    "            p = SurfacePlot(mesh=mesh, color=ColorConstant(color=C, intensity=I))\n",
    "            p.position = [i*12, j*11, k*11]\n",
    "            scene.add(p)"
   ]
  },
  {
   "cell_type": "code",
   "execution_count": null,
   "metadata": {},
   "outputs": [],
   "source": [
    "scene.children = tuple(filter(lambda c: c._model_module != \"unray\", scene.children))"
   ]
  },
  {
   "cell_type": "code",
   "execution_count": null,
   "metadata": {},
   "outputs": [],
   "source": [
    "for i in range(2):\n",
    "    for j in range(2):\n",
    "        for k in range(2):\n",
    "            C = \"hsl(%d, %d%%, %d%%)\" % (i*180 + j*90 + k*45, 30 + i*30 + j*30, 50)\n",
    "            print(C)\n",
    "            p = SurfacePlot(mesh=mesh, color=ColorConstant(color=C))\n",
    "            p.position = [i*12, j*11, k*11]\n",
    "            scene.add(p)"
   ]
  },
  {
   "cell_type": "code",
   "execution_count": null,
   "metadata": {},
   "outputs": [],
   "source": [
    "scene.children = tuple(filter(lambda c: c._model_module != \"unray\", scene.children))"
   ]
  },
  {
   "cell_type": "code",
   "execution_count": null,
   "metadata": {},
   "outputs": [],
   "source": [
    "for i in range(2):\n",
    "    for j in range(2):\n",
    "        for k in range(2):\n",
    "            hsl = (i*180 + j*90 + k*45, 30 + i*30 + j*30, 50)\n",
    "            hslw = ((hsl[0] + 180) % 360, 100, 50)\n",
    "            C  = \"hsl(%d, %d%%, %d%%)\" % hsl\n",
    "            Cw = \"hsl(%d, %d%%, %d%%)\" % hslw\n",
    "            print(C, Cw)\n",
    "            wp = WireframeParams(color=Cw, opacity=0.3*i + 0.3*j + 0.3*k)\n",
    "            p = SurfacePlot(mesh=mesh, color=ColorConstant(color=C), wireframe=wp)\n",
    "            p.position = [i*12, j*11, k*11]\n",
    "            scene.add(p)"
   ]
  },
  {
   "cell_type": "code",
   "execution_count": null,
   "metadata": {},
   "outputs": [],
   "source": [
    "scene.children = tuple(filter(lambda c: c._model_module != \"unray\", scene.children))"
   ]
  },
  {
   "cell_type": "code",
   "execution_count": null,
   "metadata": {},
   "outputs": [],
   "source": [
    "xplot = XrayPlot(mesh=mesh)\n",
    "scene.add(xplot)"
   ]
  },
  {
   "cell_type": "code",
   "execution_count": null,
   "metadata": {},
   "outputs": [],
   "source": [
    "plot = SurfacePlot(mesh=mesh)\n",
    "plot.position = [0, 9, 0]\n",
    "scene.add(plot)"
   ]
  },
  {
   "cell_type": "code",
   "execution_count": null,
   "metadata": {},
   "outputs": [],
   "source": []
  },
  {
   "cell_type": "code",
   "execution_count": null,
   "metadata": {},
   "outputs": [],
   "source": []
  },
  {
   "cell_type": "code",
   "execution_count": null,
   "metadata": {},
   "outputs": [],
   "source": [
    "splot = SurfacePlot(\n",
    "    mesh=mesh,\n",
    "    color=ColorField(field=field, lut=lut),\n",
    "    wireframe=False,\n",
    ")\n",
    "splot.position = [0, 9, 0]\n",
    "scene.add(splot)"
   ]
  },
  {
   "cell_type": "code",
   "execution_count": null,
   "metadata": {},
   "outputs": [],
   "source": [
    "xplot = XrayPlot(\n",
    "    density=field,\n",
    ")\n",
    "xplot.position = [0, 9, 0]\n",
    "scene.add(xplot)"
   ]
  },
  {
   "cell_type": "code",
   "execution_count": null,
   "metadata": {},
   "outputs": [],
   "source": [
    "box = three.Mesh(three.BoxGeometry(1, 1, 1), three.MeshLambertMaterial(), position=[5, 0, 0])\n",
    "scene.add(box)"
   ]
  },
  {
   "cell_type": "code",
   "execution_count": null,
   "metadata": {},
   "outputs": [],
   "source": []
  },
  {
   "cell_type": "code",
   "execution_count": null,
   "metadata": {},
   "outputs": [],
   "source": [
    "plot0 = scene.children[3]\n",
    "plot1 = scene.children[4]\n",
    "plot2 = scene.children[6]"
   ]
  },
  {
   "cell_type": "code",
   "execution_count": null,
   "metadata": {},
   "outputs": [],
   "source": [
    "plot0.visible = False\n",
    "plot1.visible = False"
   ]
  },
  {
   "cell_type": "code",
   "execution_count": null,
   "metadata": {},
   "outputs": [],
   "source": [
    "[(i, type(c)) for i, c in enumerate(scene.children)]"
   ]
  }
 ],
 "metadata": {
  "kernelspec": {
   "display_name": "Python 3",
   "language": "python",
   "name": "python3"
  },
  "language_info": {
   "codemirror_mode": {
    "name": "ipython",
    "version": 3
   },
   "file_extension": ".py",
   "mimetype": "text/x-python",
   "name": "python",
   "nbconvert_exporter": "python",
   "pygments_lexer": "ipython3",
   "version": "3.5.2"
  }
 },
 "nbformat": 4,
 "nbformat_minor": 2
}
