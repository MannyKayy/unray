{
 "cells": [
  {
   "cell_type": "code",
   "execution_count": 1,
   "metadata": {},
   "outputs": [
    {
     "data": {
      "application/vnd.jupyter.widget-view+json": {
       "model_id": "7d5bbd717b5f4ed99b8163c80997a402",
       "version_major": 2,
       "version_minor": 0
      },
      "text/html": [
       "<p>Failed to display Jupyter Widget of type <code>Renderer</code>.</p>\n",
       "<p>\n",
       "  If you're reading this message in Jupyter Notebook or JupyterLab, it may mean\n",
       "  that the widgets JavaScript is still loading. If this message persists, it\n",
       "  likely means that the widgets JavaScript library is either not installed or\n",
       "  not enabled. See the <a href=\"https://ipywidgets.readthedocs.io/en/stable/user_install.html\">Jupyter\n",
       "  Widgets Documentation</a> for setup instructions.\n",
       "</p>\n",
       "<p>\n",
       "  If you're reading this message in another notebook frontend (for example, a static\n",
       "  rendering on GitHub or <a href=\"https://nbviewer.jupyter.org/\">NBViewer</a>),\n",
       "  it may mean that your frontend doesn't currently support widgets.\n",
       "</p>\n"
      ],
      "text/plain": [
       "Renderer(camera=PerspectiveCamera(aspect=2.0, matrix=[1.0, 0.0, 0.0, 0.0, 0.0, 1.0, 0.0, 0.0, 0.0, 0.0, 1.0, 0.0, 0.0, 0.0, 0.0, 1.0], matrixWorld=[1.0, 0.0, 0.0, 0.0, 0.0, 1.0, 0.0, 0.0, 0.0, 0.0, 1.0, 0.0, 0.0, 0.0, 0.0, 1.0], matrixWorldInverse=[1.0, 0.0, 0.0, 0.0, 0.0, 1.0, 0.0, 0.0, 0.0, 0.0, 1.0, 0.0, 0.0, 0.0, 0.0, 1.0], modelViewMatrix=[1.0, 0.0, 0.0, 0.0, 0.0, 1.0, 0.0, 0.0, 0.0, 0.0, 1.0, 0.0, 0.0, 0.0, 0.0, 1.0], normalMatrix=[1.0, 0.0, 0.0, 0.0, 1.0, 0.0, 0.0, 0.0, 1.0], position=[10.0, 10.0, 10.0], projectionMatrix=[1.0, 0.0, 0.0, 0.0, 0.0, 1.0, 0.0, 0.0, 0.0, 0.0, 1.0, 0.0, 0.0, 0.0, 0.0, 1.0], quaternion=[0.0, 0.0, 0.0, 1.0], rotation=(0.0, 0.0, 0.0, 'XYZ'), scale=[1.0, 1.0, 1.0], up=[0.0, 1.0, 0.0]), controls=[OrbitControls(controlling=PerspectiveCamera(aspect=2.0, matrix=[1.0, 0.0, 0.0, 0.0, 0.0, 1.0, 0.0, 0.0, 0.0, 0.0, 1.0, 0.0, 0.0, 0.0, 0.0, 1.0], matrixWorld=[1.0, 0.0, 0.0, 0.0, 0.0, 1.0, 0.0, 0.0, 0.0, 0.0, 1.0, 0.0, 0.0, 0.0, 0.0, 1.0], matrixWorldInverse=[1.0, 0.0, 0.0, 0.0, 0.0, 1.0, 0.0, 0.0, 0.0, 0.0, 1.0, 0.0, 0.0, 0.0, 0.0, 1.0], modelViewMatrix=[1.0, 0.0, 0.0, 0.0, 0.0, 1.0, 0.0, 0.0, 0.0, 0.0, 1.0, 0.0, 0.0, 0.0, 0.0, 1.0], normalMatrix=[1.0, 0.0, 0.0, 0.0, 1.0, 0.0, 0.0, 0.0, 1.0], position=[10.0, 10.0, 10.0], projectionMatrix=[1.0, 0.0, 0.0, 0.0, 0.0, 1.0, 0.0, 0.0, 0.0, 0.0, 1.0, 0.0, 0.0, 0.0, 0.0, 1.0], quaternion=[0.0, 0.0, 0.0, 1.0], rotation=(0.0, 0.0, 0.0, 'XYZ'), scale=[1.0, 1.0, 1.0], up=[0.0, 1.0, 0.0]), target=[0.0, 0.0, 0.0])], scene=Scene(background='#dddddd', children=(DirectionalLight(matrix=[1.0, 0.0, 0.0, 0.0, 0.0, 1.0, 0.0, 0.0, 0.0, 0.0, 1.0, 0.0, 0.0, 0.0, 0.0, 1.0], matrixWorld=[1.0, 0.0, 0.0, 0.0, 0.0, 1.0, 0.0, 0.0, 0.0, 0.0, 1.0, 0.0, 0.0, 0.0, 0.0, 1.0], modelViewMatrix=[1.0, 0.0, 0.0, 0.0, 0.0, 1.0, 0.0, 0.0, 0.0, 0.0, 1.0, 0.0, 0.0, 0.0, 0.0, 1.0], normalMatrix=[1.0, 0.0, 0.0, 0.0, 1.0, 0.0, 0.0, 0.0, 1.0], position=[0.0, 10.0, 10.0], quaternion=[0.0, 0.0, 0.0, 1.0], rotation=(0.0, 0.0, 0.0, 'XYZ'), scale=[1.0, 1.0, 1.0], target=Object3D(matrix=[1.0, 0.0, 0.0, 0.0, 0.0, 1.0, 0.0, 0.0, 0.0, 0.0, 1.0, 0.0, 0.0, 0.0, 0.0, 1.0], matrixWorld=[1.0, 0.0, 0.0, 0.0, 0.0, 1.0, 0.0, 0.0, 0.0, 0.0, 1.0, 0.0, 0.0, 0.0, 0.0, 1.0], modelViewMatrix=[1.0, 0.0, 0.0, 0.0, 0.0, 1.0, 0.0, 0.0, 0.0, 0.0, 1.0, 0.0, 0.0, 0.0, 0.0, 1.0], normalMatrix=[1.0, 0.0, 0.0, 0.0, 1.0, 0.0, 0.0, 0.0, 1.0], position=[0.0, 0.0, 0.0], quaternion=[0.0, 0.0, 0.0, 1.0], rotation=(0.0, 0.0, 0.0, 'XYZ'), scale=[1.0, 1.0, 1.0], up=[0.0, 1.0, 0.0]), up=[0.0, 1.0, 0.0]), AmbientLight(intensity=0.5, matrix=[1.0, 0.0, 0.0, 0.0, 0.0, 1.0, 0.0, 0.0, 0.0, 0.0, 1.0, 0.0, 0.0, 0.0, 0.0, 1.0], matrixWorld=[1.0, 0.0, 0.0, 0.0, 0.0, 1.0, 0.0, 0.0, 0.0, 0.0, 1.0, 0.0, 0.0, 0.0, 0.0, 1.0], modelViewMatrix=[1.0, 0.0, 0.0, 0.0, 0.0, 1.0, 0.0, 0.0, 0.0, 0.0, 1.0, 0.0, 0.0, 0.0, 0.0, 1.0], normalMatrix=[1.0, 0.0, 0.0, 0.0, 1.0, 0.0, 0.0, 0.0, 1.0], position=[0.0, 0.0, 0.0], quaternion=[0.0, 0.0, 0.0, 1.0], rotation=(0.0, 0.0, 0.0, 'XYZ'), scale=[1.0, 1.0, 1.0], up=[0.0, 1.0, 0.0]), PerspectiveCamera(aspect=2.0, matrix=[1.0, 0.0, 0.0, 0.0, 0.0, 1.0, 0.0, 0.0, 0.0, 0.0, 1.0, 0.0, 0.0, 0.0, 0.0, 1.0], matrixWorld=[1.0, 0.0, 0.0, 0.0, 0.0, 1.0, 0.0, 0.0, 0.0, 0.0, 1.0, 0.0, 0.0, 0.0, 0.0, 1.0], matrixWorldInverse=[1.0, 0.0, 0.0, 0.0, 0.0, 1.0, 0.0, 0.0, 0.0, 0.0, 1.0, 0.0, 0.0, 0.0, 0.0, 1.0], modelViewMatrix=[1.0, 0.0, 0.0, 0.0, 0.0, 1.0, 0.0, 0.0, 0.0, 0.0, 1.0, 0.0, 0.0, 0.0, 0.0, 1.0], normalMatrix=[1.0, 0.0, 0.0, 0.0, 1.0, 0.0, 0.0, 0.0, 1.0], position=[10.0, 10.0, 10.0], projectionMatrix=[1.0, 0.0, 0.0, 0.0, 0.0, 1.0, 0.0, 0.0, 0.0, 0.0, 1.0, 0.0, 0.0, 0.0, 0.0, 1.0], quaternion=[0.0, 0.0, 0.0, 1.0], rotation=(0.0, 0.0, 0.0, 'XYZ'), scale=[1.0, 1.0, 1.0], up=[0.0, 1.0, 0.0])), fog=None, matrix=[1.0, 0.0, 0.0, 0.0, 0.0, 1.0, 0.0, 0.0, 0.0, 0.0, 1.0, 0.0, 0.0, 0.0, 0.0, 1.0], matrixWorld=[1.0, 0.0, 0.0, 0.0, 0.0, 1.0, 0.0, 0.0, 0.0, 0.0, 1.0, 0.0, 0.0, 0.0, 0.0, 1.0], modelViewMatrix=[1.0, 0.0, 0.0, 0.0, 0.0, 1.0, 0.0, 0.0, 0.0, 0.0, 1.0, 0.0, 0.0, 0.0, 0.0, 1.0], normalMatrix=[1.0, 0.0, 0.0, 0.0, 1.0, 0.0, 0.0, 0.0, 1.0], overrideMaterial=None, position=[0.0, 0.0, 0.0], quaternion=[0.0, 0.0, 0.0, 1.0], rotation=(0.0, 0.0, 0.0, 'XYZ'), scale=[1.0, 1.0, 1.0], up=[0.0, 1.0, 0.0]))"
      ]
     },
     "metadata": {},
     "output_type": "display_data"
    }
   ],
   "source": [
    "import time\n",
    "import numpy as np\n",
    "from unray import *\n",
    "from ipydatawidgets import NDArrayWidget\n",
    "import pythreejs as three\n",
    "import ipywidgets\n",
    "from ipywidgets import jslink\n",
    "\n",
    "filename = \"data/heart.npz\"\n",
    "#filename = \"data/brain.npz\"\n",
    "#filename = \"data/aneurysm.npz\"\n",
    "\n",
    "mesh_data = np.load(filename)\n",
    "cells_array = mesh_data[\"cells\"].astype(np.int32)\n",
    "points_array = mesh_data[\"points\"].astype(np.float32)\n",
    "\n",
    "# Coordinates of all vertices in mesh\n",
    "x = list(points_array.T)  # x[2] = z coordinate array for all vertices\n",
    "\n",
    "# Model center 3d vector\n",
    "center = list(map(lambda x: x.mean(), x))\n",
    "\n",
    "# Model min/max coordinates\n",
    "bbox = list(map(lambda x: (x.min(), x.max()), x))\n",
    "\n",
    "# Coordinates with origo shifted to center of model\n",
    "xm = list(map(lambda x, mp: x - mp, x, center))\n",
    "\n",
    "# Distance from model center\n",
    "xd = np.sqrt(sum(map(lambda x: x**2, xm)))\n",
    "radius = xd.max()\n",
    "\n",
    "# Distance from center, normalized to max 1.0\n",
    "func_dist = xd / radius\n",
    "\n",
    "# A constant for all vertices\n",
    "func_const = np.ones(x[0].shape)\n",
    "\n",
    "# x coordinate\n",
    "func_x = x[0]\n",
    "\n",
    "# A wave pattern from the center of the model\n",
    "freq = 4\n",
    "func_wave = 2.0 + np.sin((freq * 2 * np.pi / radius) * xd)\n",
    "\n",
    "# Data widgets\n",
    "cells = NDArrayWidget(cells_array)\n",
    "points = NDArrayWidget(points_array)\n",
    "mesh = Mesh(cells=cells, points=points)\n",
    "\n",
    "field_values = NDArrayWidget((func_x - func_x.min()) / (func_x.max() - func_x.min()))\n",
    "\n",
    "field = Field(mesh=mesh, values=field_values)\n",
    "color_lut = ArrayColorLUT(values=[[0,0,0], [1,1,1]])\n",
    "scalar_lut = ArrayScalarLUT(values=[0.2, 0.8])\n",
    "color_field = ColorField(field=field, lut=color_lut)\n",
    "scalar_field = ScalarField(field=field, lut=scalar_lut)\n",
    "\n",
    "# pythreejs setup\n",
    "width = 960\n",
    "height = 480\n",
    "camera = three.PerspectiveCamera(position=[10, 10, 10], aspect=width/height)\n",
    "key_light = three.DirectionalLight(position=[0, 10, 10])\n",
    "ambient = three.AmbientLight(intensity=0.5)\n",
    "scene = three.Scene(children=[key_light, ambient, camera], background='#dddddd')\n",
    "controls = three.OrbitControls(camera)\n",
    "renderer = three.Renderer(scene, camera, [controls],\n",
    "                          width=width, height=height)\n",
    "display(renderer)"
   ]
  },
  {
   "cell_type": "code",
   "execution_count": 2,
   "metadata": {},
   "outputs": [
    {
     "name": "stdout",
     "output_type": "stream",
     "text": [
      "5129 3272\n"
     ]
    }
   ],
   "source": [
    "cell_midpoints = sum(points_array[cells_array[:,i],:] for i in range(3))\n",
    "cell_midpoints *= (1.0/3.0)\n",
    "left_half, = np.where(cell_midpoints[:,0] < 0.5 * (cell_midpoints[:,0].max() - cell_midpoints[:,0].min()))\n",
    "cell_indicators_array1 = np.zeros(cells_array.shape[0], dtype=\"int32\")\n",
    "cell_indicators_array1[left_half] = 1\n",
    "cell_indicators_array2 = 1 - cell_indicators_array1\n",
    "assert 0 == cells_array.shape[0] - (sum(cell_indicators_array1)+sum(cell_indicators_array2))\n",
    "print(sum(cell_indicators_array1), sum(cell_indicators_array2))"
   ]
  },
  {
   "cell_type": "code",
   "execution_count": 5,
   "metadata": {},
   "outputs": [],
   "source": [
    "scene.children = tuple(filter(lambda c: c._model_module != \"unray\", scene.children))\n",
    "\n",
    "cell_indicators1 = IndicatorField(mesh=mesh, values=cell_indicators_array1, space=\"I3\")\n",
    "cell_indicators2 = IndicatorField(mesh=mesh, values=cell_indicators_array2, space=\"I3\")\n",
    "\n",
    "restrict1 = ScalarIndicators(field=cell_indicators1)\n",
    "restrict2 = ScalarIndicators(field=cell_indicators2)\n",
    "\n",
    "plots = [\n",
    "    SurfacePlot(mesh=mesh, restrict=restrict1),\n",
    "    XrayPlot(mesh=mesh, restrict=restrict2),\n",
    "]\n",
    "scene.add(plots[0])\n",
    "scene.add(plots[1])"
   ]
  },
  {
   "cell_type": "code",
   "execution_count": null,
   "metadata": {},
   "outputs": [],
   "source": [
    "ip = IsovalueParams()\n",
    "ip.dashboard??"
   ]
  },
  {
   "cell_type": "code",
   "execution_count": null,
   "metadata": {},
   "outputs": [],
   "source": [
    "plot = IsosurfacePlot(mesh=mesh, color=color_field, values=ip)\n",
    "scene.add(plot)"
   ]
  },
  {
   "cell_type": "code",
   "execution_count": null,
   "metadata": {},
   "outputs": [],
   "source": [
    "scene.remove(plot)"
   ]
  },
  {
   "cell_type": "code",
   "execution_count": null,
   "metadata": {},
   "outputs": [],
   "source": [
    "camera.type"
   ]
  },
  {
   "cell_type": "code",
   "execution_count": null,
   "metadata": {},
   "outputs": [],
   "source": [
    "scene.children = tuple(filter(lambda c: c._model_module != \"unray\", scene.children))"
   ]
  },
  {
   "cell_type": "code",
   "execution_count": null,
   "metadata": {},
   "outputs": [],
   "source": [
    "# This doesn't work after construction of a plot because the plot doesn't listen to the color_constant changes\n",
    "color_constant = ColorConstant(color=\"#ff0000\")\n",
    "picker = color_constant.dashboard()\n",
    "picker"
   ]
  },
  {
   "cell_type": "code",
   "execution_count": null,
   "metadata": {},
   "outputs": [],
   "source": [
    "# This works!\n",
    "plot1 = SumPlot(mesh=mesh, color=color_field)\n",
    "plot2 = SumPlot(mesh=mesh, color=color_constant)\n",
    "plot1.position = [-6, 0, 0]\n",
    "plot2.position = [+6, 0, 0]\n",
    "scene.add(plot1)\n",
    "scene.add(plot2)\n",
    "slider = ipywidgets.FloatSlider(value=0.0, min=-10.0, max=+10.0, description=\"Exposure\")\n",
    "jslink((slider, \"value\"), (plot1, \"exposure\"))\n",
    "jslink((slider, \"value\"), (plot2, \"exposure\"))\n",
    "slider"
   ]
  },
  {
   "cell_type": "code",
   "execution_count": null,
   "metadata": {},
   "outputs": [],
   "source": []
  },
  {
   "cell_type": "code",
   "execution_count": null,
   "metadata": {},
   "outputs": [],
   "source": [
    "wp = WireframeParams()\n",
    "wp.dashboard()"
   ]
  },
  {
   "cell_type": "code",
   "execution_count": null,
   "metadata": {},
   "outputs": [],
   "source": [
    "plot = SurfacePlot(mesh=mesh, wireframe=wp, color=color_constant)\n",
    "scene.add(plot)"
   ]
  },
  {
   "cell_type": "code",
   "execution_count": null,
   "metadata": {},
   "outputs": [],
   "source": [
    "scene.remove(plot)"
   ]
  },
  {
   "cell_type": "code",
   "execution_count": null,
   "metadata": {},
   "outputs": [],
   "source": []
  },
  {
   "cell_type": "code",
   "execution_count": null,
   "metadata": {},
   "outputs": [],
   "source": [
    "scene.children = tuple(filter(lambda c: c._model_module != \"unray\", scene.children))\n",
    "\n",
    "# Testing default parameters with minimal arguments for all plots\n",
    "if 1:\n",
    "    plots = [\n",
    "        SurfacePlot(mesh=mesh),\n",
    "        MinPlot(mesh=mesh, color=color_field),\n",
    "        MaxPlot(mesh=mesh, color=color_field),\n",
    "        XrayPlot(mesh=mesh, density=ScalarConstant(value=0.1)),\n",
    "        XrayPlot(mesh=mesh, density=scalar_field),\n",
    "        SumPlot(mesh=mesh, color=color_field),\n",
    "        VolumePlot(mesh=mesh, color=color_field, density=scalar_field),\n",
    "    ]\n",
    "\n",
    "if 0:\n",
    "    plots = [\n",
    "        SurfacePlot(mesh=mesh),\n",
    "    ]\n",
    "\n",
    "if 0:\n",
    "    plots = [\n",
    "        SurfacePlot(mesh=mesh),\n",
    "        SurfacePlot(mesh=mesh, color=ColorConstant(color=\"hsl(45,30%,70%)\")),\n",
    "        SurfacePlot(mesh=mesh, color=color_field),\n",
    "        #MinPlot(mesh=mesh, color=color_field),\n",
    "        #MaxPlot(mesh=mesh, color=color_field),\n",
    "        XrayPlot(mesh=mesh, density=ScalarConstant(value=0.1)),\n",
    "        SumPlot(mesh=mesh, color=color_field),\n",
    "        SumPlot(mesh=mesh, color=color_field, exposure=-2.3),\n",
    "        SumPlot(mesh=mesh, color=ColorConstant(color=\"hsl(70,30%,70%)\")),\n",
    "        #VolumePlot(mesh=mesh, color=color_field, density=scalar_field),  # Doesn't work\n",
    "    ]\n",
    "\n",
    "if 0:\n",
    "    plots = [\n",
    "        XrayPlot(mesh=mesh, density=ScalarConstant(value=0.0), extinction=1.0),\n",
    "        XrayPlot(mesh=mesh, density=ScalarConstant(value=0.05), extinction=1.0),\n",
    "        XrayPlot(mesh=mesh, density=ScalarConstant(value=0.1), extinction=1.0),\n",
    "        XrayPlot(mesh=mesh, density=ScalarConstant(value=1.0), extinction=1.0),\n",
    "    ]\n",
    "    sliders = [ipywidgets.FloatSlider(value=p.density.value, min=0.0, max=2.0, step=0.01, description=\"extinction\") for p in plots]\n",
    "    links = [jslink((sl, \"value\"), (pl, \"extinction\")) for (sl, pl) in zip(sliders, plots)]\n",
    "    box = ipywidgets.VBox(sliders)\n",
    "    display(box)\n",
    "\n",
    "for n, p in enumerate(plots):\n",
    "    i = n % 2\n",
    "    j = (n // 2) % 2\n",
    "    k = n // 4\n",
    "    p.position = [i*12, j*11, k*11]\n",
    "    scene.add(p)"
   ]
  },
  {
   "cell_type": "code",
   "execution_count": null,
   "metadata": {},
   "outputs": [],
   "source": []
  },
  {
   "cell_type": "code",
   "execution_count": null,
   "metadata": {},
   "outputs": [],
   "source": [
    "n = 30\n",
    "for i in range(n):\n",
    "    for j, p in enumerate(plots):\n",
    "        p.rotateX(j*2*3.14159/n)\n",
    "    time.sleep(1.0/n)"
   ]
  },
  {
   "cell_type": "code",
   "execution_count": null,
   "metadata": {},
   "outputs": [],
   "source": []
  },
  {
   "cell_type": "code",
   "execution_count": null,
   "metadata": {},
   "outputs": [],
   "source": [
    "scene.children = tuple(filter(lambda c: c._model_module != \"unray\", scene.children))"
   ]
  },
  {
   "cell_type": "code",
   "execution_count": null,
   "metadata": {},
   "outputs": [],
   "source": [
    "for i in range(2):\n",
    "    for j in range(2):\n",
    "        for k in range(2):\n",
    "            I = ((i+1) * (j+1) * (k+1)) / 8.0\n",
    "            p = SurfacePlot(mesh=mesh, color=ColorConstant(intensity=I))\n",
    "            p.position = [i*12, j*11, k*11]\n",
    "            scene.add(p)"
   ]
  },
  {
   "cell_type": "code",
   "execution_count": null,
   "metadata": {},
   "outputs": [],
   "source": [
    "scene.children = tuple(filter(lambda c: c._model_module != \"unray\", scene.children))"
   ]
  },
  {
   "cell_type": "code",
   "execution_count": null,
   "metadata": {},
   "outputs": [],
   "source": [
    "for i in range(2):\n",
    "    for j in range(2):\n",
    "        for k in range(2):\n",
    "            I = 0.5 + k*0.5\n",
    "            C = \"rgb(%d, %d, %d)\" % (i*255, j*255, k*255)\n",
    "            print(C)\n",
    "            p = SurfacePlot(mesh=mesh, color=ColorConstant(color=C, intensity=I))\n",
    "            p.position = [i*12, j*11, k*11]\n",
    "            scene.add(p)"
   ]
  },
  {
   "cell_type": "code",
   "execution_count": null,
   "metadata": {},
   "outputs": [],
   "source": [
    "scene.children = tuple(filter(lambda c: c._model_module != \"unray\", scene.children))"
   ]
  },
  {
   "cell_type": "code",
   "execution_count": null,
   "metadata": {},
   "outputs": [],
   "source": [
    "for i in range(2):\n",
    "    for j in range(2):\n",
    "        for k in range(2):\n",
    "            C = \"hsl(%d, %d%%, %d%%)\" % (i*180 + j*90 + k*45, 30 + i*30 + j*30, 50)\n",
    "            print(C)\n",
    "            p = SurfacePlot(mesh=mesh, color=ColorConstant(color=C))\n",
    "            p.position = [i*12, j*11, k*11]\n",
    "            scene.add(p)"
   ]
  },
  {
   "cell_type": "code",
   "execution_count": null,
   "metadata": {},
   "outputs": [],
   "source": [
    "scene.children = tuple(filter(lambda c: c._model_module != \"unray\", scene.children))"
   ]
  },
  {
   "cell_type": "code",
   "execution_count": null,
   "metadata": {},
   "outputs": [],
   "source": [
    "for i in range(2):\n",
    "    for j in range(2):\n",
    "        for k in range(2):\n",
    "            hsl = (i*180 + j*90 + k*45, 30 + i*30 + j*30, 50)\n",
    "            hslw = ((hsl[0] + 180) % 360, 100, 50)\n",
    "            C  = \"hsl(%d, %d%%, %d%%)\" % hsl\n",
    "            Cw = \"hsl(%d, %d%%, %d%%)\" % hslw\n",
    "            print(C, Cw)\n",
    "            wp = WireframeParams(color=Cw, opacity=0.3*i + 0.3*j + 0.3*k)\n",
    "            p = SurfacePlot(mesh=mesh, color=ColorConstant(color=C), wireframe=wp)\n",
    "            p.position = [i*12, j*11, k*11]\n",
    "            scene.add(p)"
   ]
  },
  {
   "cell_type": "code",
   "execution_count": null,
   "metadata": {},
   "outputs": [],
   "source": [
    "scene.children = tuple(filter(lambda c: c._model_module != \"unray\", scene.children))"
   ]
  },
  {
   "cell_type": "code",
   "execution_count": null,
   "metadata": {},
   "outputs": [],
   "source": [
    "xplot = XrayPlot(mesh=mesh)\n",
    "scene.add(xplot)"
   ]
  },
  {
   "cell_type": "code",
   "execution_count": null,
   "metadata": {},
   "outputs": [],
   "source": [
    "plot = SurfacePlot(mesh=mesh)\n",
    "plot.position = [0, 9, 0]\n",
    "scene.add(plot)"
   ]
  },
  {
   "cell_type": "code",
   "execution_count": null,
   "metadata": {},
   "outputs": [],
   "source": []
  },
  {
   "cell_type": "code",
   "execution_count": null,
   "metadata": {},
   "outputs": [],
   "source": []
  },
  {
   "cell_type": "code",
   "execution_count": null,
   "metadata": {},
   "outputs": [],
   "source": [
    "splot = SurfacePlot(\n",
    "    mesh=mesh,\n",
    "    color=ColorField(field=field, lut=lut),\n",
    "    wireframe=False,\n",
    ")\n",
    "splot.position = [0, 9, 0]\n",
    "scene.add(splot)"
   ]
  },
  {
   "cell_type": "code",
   "execution_count": null,
   "metadata": {},
   "outputs": [],
   "source": [
    "xplot = XrayPlot(\n",
    "    density=field,\n",
    ")\n",
    "xplot.position = [0, 9, 0]\n",
    "scene.add(xplot)"
   ]
  },
  {
   "cell_type": "code",
   "execution_count": null,
   "metadata": {},
   "outputs": [],
   "source": [
    "box = three.Mesh(three.BoxGeometry(1, 1, 1), three.MeshLambertMaterial(), position=[5, 0, 0])\n",
    "scene.add(box)"
   ]
  },
  {
   "cell_type": "code",
   "execution_count": null,
   "metadata": {},
   "outputs": [],
   "source": []
  },
  {
   "cell_type": "code",
   "execution_count": null,
   "metadata": {},
   "outputs": [],
   "source": [
    "plot0 = scene.children[3]\n",
    "plot1 = scene.children[4]\n",
    "plot2 = scene.children[6]"
   ]
  },
  {
   "cell_type": "code",
   "execution_count": null,
   "metadata": {},
   "outputs": [],
   "source": [
    "plot0.visible = False\n",
    "plot1.visible = False"
   ]
  },
  {
   "cell_type": "code",
   "execution_count": null,
   "metadata": {},
   "outputs": [],
   "source": [
    "[(i, type(c)) for i, c in enumerate(scene.children)]"
   ]
  }
 ],
 "metadata": {
  "kernelspec": {
   "display_name": "Python 3",
   "language": "python",
   "name": "python3"
  },
  "language_info": {
   "codemirror_mode": {
    "name": "ipython",
    "version": 3
   },
   "file_extension": ".py",
   "mimetype": "text/x-python",
   "name": "python",
   "nbconvert_exporter": "python",
   "pygments_lexer": "ipython3",
   "version": "3.5.2"
  }
 },
 "nbformat": 4,
 "nbformat_minor": 2
}
