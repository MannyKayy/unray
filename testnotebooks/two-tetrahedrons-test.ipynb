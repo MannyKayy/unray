{
 "cells": [
  {
   "cell_type": "code",
   "execution_count": null,
   "metadata": {},
   "outputs": [],
   "source": [
    "import ipywidgets\n",
    "import IPython\n",
    "import unray\n",
    "import numpy as np\n",
    "print(ipywidgets.__version__)\n",
    "print(IPython.__version__)\n",
    "print(unray.__version__)"
   ]
  },
  {
   "cell_type": "code",
   "execution_count": null,
   "metadata": {
    "collapsed": true
   },
   "outputs": [],
   "source": [
    "coordinates = [\n",
    "    [0,0,0],\n",
    "    [1,0,0],\n",
    "    [0,1,0],\n",
    "    [.5,.5,1],\n",
    "    [.5, .5, -1],\n",
    "    ]\n",
    "\n",
    "cells = [\n",
    "    [0, 1, 2, 3],\n",
    "    [0, 1, 2, 4],\n",
    "    ]\n",
    "\n",
    "cell_indicators = [2, 2]\n",
    "cell_indicator_value = 2\n",
    "\n",
    "density = [0.0, 0.25, 0.5, 0.75, 1.0]\n",
    "emission = [0.0, 0.25, 0.5, 0.75, 1.0]\n",
    "\n",
    "density_lut = [0.0, 1.0]\n",
    "emission_lut = [0.0, 1.0]"
   ]
  },
  {
   "cell_type": "code",
   "execution_count": null,
   "metadata": {
    "collapsed": true
   },
   "outputs": [],
   "source": [
    "methods = [\n",
    "    \"surface\",\n",
    "    \"min\",\n",
    "    \"max\",\n",
    "    \"xray\",\n",
    "    \"volume\",\n",
    "    \"surface_depth\",\n",
    "    \"cells\",\n",
    "    ]\n",
    "\n",
    "figs = {}\n",
    "for method in methods:\n",
    "    figs[method] = unray.render(\n",
    "        coordinates, cells,\n",
    "        method=method,\n",
    "        density=density, emission=emission,\n",
    "        #density_lut=density_lut,\n",
    "        #emission_lut=emission_lut,\n",
    "        cell_indicators=cell_indicators,\n",
    "        cell_indicator_value=cell_indicator_value,\n",
    "        width=600, height=600)"
   ]
  },
  {
   "cell_type": "code",
   "execution_count": null,
   "metadata": {},
   "outputs": [],
   "source": [
    "figs[\"cells\"]"
   ]
  },
  {
   "cell_type": "code",
   "execution_count": null,
   "metadata": {
    "collapsed": true
   },
   "outputs": [],
   "source": [
    "# Inspecting data for debugging:\n",
    "fig = figs[\"cells\"]\n",
    "plot = fig.plots[\"plot_cells\"]\n",
    "plot.encoding[\"cell_indicator_value\"][\"value\"]"
   ]
  },
  {
   "cell_type": "code",
   "execution_count": null,
   "metadata": {
    "collapsed": true
   },
   "outputs": [],
   "source": [
    "figs[\"surface\"]"
   ]
  },
  {
   "cell_type": "code",
   "execution_count": null,
   "metadata": {
    "collapsed": true
   },
   "outputs": [],
   "source": [
    "figs[\"surface_depth\"]"
   ]
  },
  {
   "cell_type": "code",
   "execution_count": null,
   "metadata": {
    "collapsed": true
   },
   "outputs": [],
   "source": [
    "figs[\"min\"]"
   ]
  },
  {
   "cell_type": "code",
   "execution_count": null,
   "metadata": {
    "collapsed": true
   },
   "outputs": [],
   "source": [
    "figs[\"max\"]"
   ]
  },
  {
   "cell_type": "code",
   "execution_count": null,
   "metadata": {
    "collapsed": true
   },
   "outputs": [],
   "source": [
    "figs[\"xray\"]"
   ]
  },
  {
   "cell_type": "code",
   "execution_count": null,
   "metadata": {
    "collapsed": true
   },
   "outputs": [],
   "source": [
    "figs[\"volume\"]"
   ]
  },
  {
   "cell_type": "code",
   "execution_count": null,
   "metadata": {
    "collapsed": true
   },
   "outputs": [],
   "source": []
  }
 ],
 "metadata": {
  "kernelspec": {
   "display_name": "Python 3",
   "language": "python",
   "name": "python3"
  },
  "language_info": {
   "codemirror_mode": {
    "name": "ipython",
    "version": 3
   },
   "file_extension": ".py",
   "mimetype": "text/x-python",
   "name": "python",
   "nbconvert_exporter": "python",
   "pygments_lexer": "ipython3",
   "version": "3.5.2"
  }
 },
 "nbformat": 4,
 "nbformat_minor": 2
}
