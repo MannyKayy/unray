{
 "cells": [
  {
   "cell_type": "markdown",
   "metadata": {},
   "source": [
    "# Unray with auto-scaled grid"
   ]
  },
  {
   "cell_type": "code",
   "execution_count": null,
   "metadata": {},
   "outputs": [],
   "source": [
    "import time\n",
    "import numpy as np\n",
    "from unray import *\n",
    "import pythreejs as three\n",
    "import ipywidgets\n",
    "from ipywidgets import jslink\n",
    "from ipydatawidgets import *\n",
    "from threeplot import *\n",
    "from ipyscales import *"
   ]
  },
  {
   "cell_type": "markdown",
   "metadata": {},
   "source": [
    "## Import heart mesh data and process\n",
    "\n",
    "Get the mesh data from file, and use it to calculate some dummy scalar fields."
   ]
  },
  {
   "cell_type": "code",
   "execution_count": null,
   "metadata": {},
   "outputs": [],
   "source": [
    "filename = \"../data/heart.npz\"\n",
    "#filename = \"../data/brain.npz\"\n",
    "#filename = \"../data/aneurysm.npz\"\n",
    "\n",
    "mesh_data = np.load(filename)\n",
    "cells_array = mesh_data[\"cells\"].astype(np.int32)\n",
    "points_array = mesh_data[\"points\"].astype(np.float32)\n",
    "\n",
    "# Coordinates of all vertices in mesh\n",
    "x = list(points_array.T)  # x[2] = z coordinate array for all vertices\n",
    "\n",
    "# Model center 3d vector\n",
    "center = list(map(lambda x: x.mean(), x))\n",
    "\n",
    "# Model min/max coordinates\n",
    "bbox = list(map(lambda x: (x.min(), x.max()), x))\n",
    "\n",
    "# Coordinates with origo shifted to center of model\n",
    "xm = list(map(lambda x, mp: x - mp, x, center))\n",
    "\n",
    "# Distance from model center\n",
    "xd = np.sqrt(sum(map(lambda x: x**2, xm)))\n",
    "radius = xd.max()\n",
    "\n",
    "# Distance from center, normalized to max 1.0\n",
    "func_dist = xd / radius\n",
    "\n",
    "# A constant for all vertices\n",
    "func_const = np.ones(x[0].shape)\n",
    "\n",
    "# x coordinate\n",
    "func_x = x[0]\n",
    "\n",
    "# A wave pattern from the center of the model\n",
    "freq = 4\n",
    "func_wave = 2.0 + np.sin((freq * 2 * np.pi / radius) * xd)"
   ]
  },
  {
   "cell_type": "code",
   "execution_count": null,
   "metadata": {},
   "outputs": [],
   "source": [
    "cell_midpoints = sum(points_array[cells_array[:,i],:] for i in range(3))\n",
    "cell_midpoints *= (1.0/3.0)\n",
    "left_half, = np.where(cell_midpoints[:,0] < 0.5 * (cell_midpoints[:,0].max() - cell_midpoints[:,0].min()))\n",
    "cell_indicators_array1 = np.zeros(cells_array.shape[0], dtype=\"int32\")\n",
    "cell_indicators_array1[left_half] = 1\n",
    "cell_indicators_array2 = 1 - cell_indicators_array1\n",
    "assert 0 == cells_array.shape[0] - (sum(cell_indicators_array1)+sum(cell_indicators_array2))\n",
    "print(sum(cell_indicators_array1), sum(cell_indicators_array2))"
   ]
  },
  {
   "cell_type": "markdown",
   "metadata": {},
   "source": [
    "## Setup data widgets\n",
    "\n",
    "This will prevent re-upload of data if used multiple times later on, and set up fields and colormaps"
   ]
  },
  {
   "cell_type": "code",
   "execution_count": null,
   "metadata": {},
   "outputs": [],
   "source": [
    "cells = NDArrayWidget(cells_array)\n",
    "points = NDArrayWidget(points_array)\n",
    "mesh = Mesh(cells=cells, points=points)\n",
    "\n",
    "field_values = NDArrayWidget((func_x - func_x.min()) / (func_x.max() - func_x.min()))\n",
    "\n",
    "field = Field(mesh=mesh, values=field_values)\n",
    "color_lut = ArrayColorMap(values=[[0,0,0], [1,1,1]])\n",
    "scalar_lut = ArrayScalarMap(values=[0.2, 0.8])\n",
    "color_field = ColorField(field=field, lut=color_lut)\n",
    "scalar_field = ScalarField(field=field, lut=scalar_lut)\n",
    "plot = None"
   ]
  },
  {
   "cell_type": "markdown",
   "metadata": {},
   "source": [
    "## A basic plot renderer setup"
   ]
  },
  {
   "cell_type": "code",
   "execution_count": null,
   "metadata": {},
   "outputs": [],
   "source": [
    "def basic_plot_renderer(width, height, plot_group):\n",
    "    \"\"\"Set up a renderer object for plotting a group\"\"\"\n",
    "    camera = three.PerspectiveCamera(position=[3, 3, 3], aspect=width/height)\n",
    "    key_light = three.DirectionalLight(position=[0, 10, 10])\n",
    "    ambient = three.AmbientLight(intensity=0.5)\n",
    "    grid = GridCrossWidget(scales=[LinearScaleWidget()]*3, autosize_target=plot_group)\n",
    "    scene = three.Scene(children=[plot_group, grid, key_light, ambient, camera], background='white')\n",
    "    controls = three.OrbitControls(camera)\n",
    "    renderer = three.Renderer(scene, camera, [controls],\n",
    "                              width=width, height=height)\n",
    "    return renderer"
   ]
  },
  {
   "cell_type": "code",
   "execution_count": null,
   "metadata": {},
   "outputs": [],
   "source": [
    "plot_scene = three.Group()\n",
    "renderer = basic_plot_renderer(800, 400, plot_scene)\n",
    "renderer"
   ]
  },
  {
   "cell_type": "markdown",
   "metadata": {},
   "source": [
    "## Add unray renderer in x-ray mode"
   ]
  },
  {
   "cell_type": "code",
   "execution_count": null,
   "metadata": {},
   "outputs": [],
   "source": [
    "plot_scene.children = ()"
   ]
  },
  {
   "cell_type": "code",
   "execution_count": null,
   "metadata": {},
   "outputs": [],
   "source": [
    "cell_indicators1 = IndicatorField(mesh=mesh, values=cell_indicators_array1, space=\"I3\")\n",
    "cell_indicators2 = IndicatorField(mesh=mesh, values=cell_indicators_array2, space=\"I3\")\n",
    "\n",
    "restrict1 = ScalarIndicators(field=cell_indicators1)\n",
    "restrict2 = ScalarIndicators(field=cell_indicators2)\n",
    "\n",
    "plots = [\n",
    "    SurfacePlot(mesh=mesh, restrict=restrict1),\n",
    "    XrayPlot(mesh=mesh, restrict=restrict2),\n",
    "]\n",
    "plot_scene.add(plots[0])\n",
    "plot_scene.add(plots[1])"
   ]
  },
  {
   "cell_type": "code",
   "execution_count": null,
   "metadata": {},
   "outputs": [],
   "source": [
    "ip = IsovalueParams()\n",
    "plot = IsosurfacePlot(mesh=mesh, color=color_field, values=ip)\n",
    "plot_scene.add(plot)"
   ]
  },
  {
   "cell_type": "code",
   "execution_count": null,
   "metadata": {},
   "outputs": [],
   "source": []
  },
  {
   "cell_type": "code",
   "execution_count": null,
   "metadata": {},
   "outputs": [],
   "source": [
    "box = three.Mesh(three.BoxGeometry(1, 1, 1), three.MeshLambertMaterial(color='red'), position=[15, 0, 0])\n",
    "plot_scene.add(box)"
   ]
  }
 ],
 "metadata": {
  "kernelspec": {
   "display_name": "Python 3",
   "language": "python",
   "name": "python3"
  },
  "language_info": {
   "codemirror_mode": {
    "name": "ipython",
    "version": 3
   },
   "file_extension": ".py",
   "mimetype": "text/x-python",
   "name": "python",
   "nbconvert_exporter": "python",
   "pygments_lexer": "ipython3",
   "version": "3.5.2"
  }
 },
 "nbformat": 4,
 "nbformat_minor": 2
}
