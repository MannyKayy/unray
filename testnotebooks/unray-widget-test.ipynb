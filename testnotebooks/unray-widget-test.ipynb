{
 "cells": [
  {
   "cell_type": "code",
   "execution_count": 11,
   "metadata": {
    "collapsed": true
   },
   "outputs": [],
   "source": [
    "import numpy as np\n",
    "\n",
    "coordinates = np.asarray([\n",
    "    [-1.0,  0.0,  0.5],\n",
    "    [ 0.0, -1.0, -0.5],\n",
    "    [ 1.0,  0.0,  0.5],\n",
    "    [ 0.0,  1.0, -0.5],\n",
    "    [ 0.3,  0.3, -0.8],\n",
    "])\n",
    "\n",
    "cells = np.asarray([\n",
    "    [0, 1, 2, 3],\n",
    "    [1, 2, 3, 4],\n",
    "])\n",
    "\n",
    "values = np.asarray([\n",
    "    0.0, 1.0, 2.0, 3.0, 4.0\n",
    "])\n",
    "\n",
    "\n",
    "viewDirection = np.asarray([\n",
    "    0.0, 0.0, 1.0\n",
    "])\n",
    "\n",
    "mvp = np.asarray([\n",
    "    [1.0, 0.0, 0.0, 0.0],\n",
    "    [0.0, 1.0, 0.0, 0.0],\n",
    "    [0.0, 0.0, 1.0, 0.0],\n",
    "    [0.0, 0.0, 0.0, 1.0],\n",
    "])\n",
    "\n",
    "\n",
    "config = {\n",
    "    \"raymodel\": \"surface\",\n",
    "}\n",
    "\n",
    "\n",
    "from unray import Unray\n",
    "w = Unray(\n",
    "    config=config,\n",
    "    cells=cells,\n",
    "    coordinates=coordinates,\n",
    "    values=values,\n",
    "    #mvp=mvp,\n",
    "    #viewDirection=viewDirection,\n",
    "    )\n"
   ]
  },
  {
   "cell_type": "code",
   "execution_count": 12,
   "metadata": {},
   "outputs": [
    {
     "data": {
      "application/vnd.jupyter.widget-view+json": {
       "model_id": "1561074fa3034d0186cc7af3c754a703",
       "version_major": "2",
       "version_minor": "0"
      },
      "text/plain": [
       "A Jupyter Widget"
      ]
     },
     "metadata": {},
     "output_type": "display_data"
    }
   ],
   "source": [
    "w"
   ]
  },
  {
   "cell_type": "code",
   "execution_count": 3,
   "metadata": {
    "collapsed": true
   },
   "outputs": [],
   "source": [
    "#w.config = {\"raymodel\": \"sum\"}"
   ]
  },
  {
   "cell_type": "code",
   "execution_count": 4,
   "metadata": {
    "collapsed": true
   },
   "outputs": [],
   "source": [
    "'''\n",
    "w.coordinates = np.asarray([\n",
    "    [-1.0,  0.0,  0.5],\n",
    "    [ 0.0, -1.0, -0.5],\n",
    "    [ 1.0,  0.0,  0.5],\n",
    "    [ 0.0,  1.0, -0.5],\n",
    "    [ 0.3,  0.3, -0.9],\n",
    "])\n",
    "'''"
   ]
  },
  {
   "cell_type": "code",
   "execution_count": null,
   "metadata": {
    "collapsed": true
   },
   "outputs": [],
   "source": []
  }
 ],
 "metadata": {
  "kernelspec": {
   "display_name": "Python 3",
   "language": "python",
   "name": "python3"
  },
  "language_info": {
   "codemirror_mode": {
    "name": "ipython",
    "version": 3
   },
   "file_extension": ".py",
   "mimetype": "text/x-python",
   "name": "python",
   "nbconvert_exporter": "python",
   "pygments_lexer": "ipython3",
   "version": "3.5.2"
  }
 },
 "nbformat": 4,
 "nbformat_minor": 2
}
