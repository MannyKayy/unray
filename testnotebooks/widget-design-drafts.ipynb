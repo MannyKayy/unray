{
 "cells": [
  {
   "cell_type": "code",
   "execution_count": null,
   "metadata": {},
   "outputs": [],
   "source": [
    "import numpy as np\n",
    "import ipywidgets as widgets\n",
    "from ipywidgets import Widget, widget_serialization\n",
    "from traitlets import Unicode, CInt, CFloat, CBool, Instance, List, Dict\n",
    "from traittypes import Array\n",
    "\n",
    "# Should be somewhere else\n",
    "from unray.traits_numpy import array_serialization, shape_constraints"
   ]
  },
  {
   "cell_type": "code",
   "execution_count": null,
   "metadata": {
    "collapsed": true
   },
   "outputs": [],
   "source": [
    "# Setup some test data\n",
    "coordinates = [\n",
    "    [0,0,0],\n",
    "    [1,0,0],\n",
    "    [0,1,0],\n",
    "    [.5,.5,1],\n",
    "    ]\n",
    "\n",
    "cells = [\n",
    "    [0, 1, 2, 3],\n",
    "    ]\n",
    "\n",
    "indicators = [7]\n",
    "\n",
    "values = [0.0, 0.2, 0.5, 1.0]"
   ]
  },
  {
   "cell_type": "code",
   "execution_count": null,
   "metadata": {
    "collapsed": true
   },
   "outputs": [],
   "source": [
    "# Generic visualization data widgets\n",
    "\n",
    "# Maybe this corresponds to the bqplot Scale, LinearScale, ColorScale, ...?\n",
    "@widgets.register('viswidgets.LUT')\n",
    "class LUT(Widget):\n",
    "    values = Array().tag(sync=True, **array_serialization)\n",
    "    interpolation = Unicode(\"linear\").tag(sync=True)\n",
    "    #dtype, item_size, ...\n",
    "\n",
    "@widgets.register('viswidgets.ScalarLUT')\n",
    "class ScalarLUT(LUT):\n",
    "    pass\n",
    "\n",
    "@widgets.register('viswidgets.ColorLUT')\n",
    "class ColorLUT(LUT):\n",
    "    pass\n",
    "\n",
    "\n",
    "@widgets.register('viswidgets.Mesh')\n",
    "class Mesh(Widget):\n",
    "    celltype = Unicode(\"tetrahedron\").tag(sync=True)\n",
    "    cells = Array().tag(sync=True, **array_serialization)\n",
    "    coordinates = Array().tag(sync=True, **array_serialization)\n",
    "\n",
    "@widgets.register('viswidgets.Field')\n",
    "class Field(Widget):\n",
    "    mesh = Instance(Mesh).tag(sync=True, **widget_serialization)\n",
    "    space = Unicode(\"P1\").tag(sync=True)\n",
    "    values = Array().tag(sync=True, **array_serialization)\n",
    "# Possibly ScalarField, VectorField\n",
    "\n",
    "@widgets.register('viswidgets.NominalField')\n",
    "class NominalField(Widget):\n",
    "    mesh = Instance(Mesh).tag(sync=True, **widget_serialization)\n",
    "    dim = CInt().tag(sync=True)\n",
    "    values = Array().tag(sync=True, **array_serialization)\n"
   ]
  },
  {
   "cell_type": "code",
   "execution_count": null,
   "metadata": {
    "collapsed": true
   },
   "outputs": [],
   "source": [
    "# Somewhat generic plot widgets similar to bqplot classes here:  http://bqplot.readthedocs.io/en/stable/\n",
    "\n",
    "@widgets.register('plotwidgets.Scale')\n",
    "class Scale(Widget):\n",
    "    pass\n",
    "# LinearScale\n",
    "# LogScale\n",
    "# OrdinalScale\n",
    "# ColorScale\n",
    "# OrdinalColorScale\n",
    "\n",
    "@widgets.register('plotwidgets.Axis')\n",
    "class Axis(Widget):\n",
    "    pass\n",
    "\n",
    "@widgets.register('plotwidgets.Grid')\n",
    "class Grid(Widget):\n",
    "    axes = List(Instance(Axis)).tag(sync=True, **widget_serialization)\n",
    "\n",
    "#class Mark(pythreejs.Group):\n",
    "@widgets.register('plotwidgets.Mark')\n",
    "class Mark(Widget):\n",
    "    pass\n",
    "\n",
    "#class Figure(pythreejs.Group):\n",
    "@widgets.register('plotwidgets.Figure')\n",
    "class Figure(Widget):\n",
    "    grid = Instance(Grid).tag(sync=True, **widget_serialization)\n",
    "    marks = List(Instance(Mark)).tag(sync=True, **widget_serialization)\n",
    "    title = Unicode().tag(sync=True)\n"
   ]
  },
  {
   "cell_type": "code",
   "execution_count": null,
   "metadata": {},
   "outputs": [],
   "source": [
    "# Unray specific plot widgets\n",
    "\n",
    "class HasDensityField:\n",
    "    density = Instance(Field).tag(sync=True, **widget_serialization)\n",
    "    density_lut = Instance(ScalarLUT).tag(sync=True, **widget_serialization)\n",
    "\n",
    "class HasColorField:\n",
    "    color = Instance(Field).tag(sync=True, **widget_serialization)\n",
    "    color_lut = Instance(ColorLUT).tag(sync=True, **widget_serialization)\n",
    "\n",
    "class HasRestrictField:\n",
    "    restrict = Instance(NominalField, allow_none=True).tag(sync=True, **widget_serialization)\n",
    "    restrict_values = List(CInt()).tag(sync=True)\n",
    "\n",
    "class HasWireframeField:\n",
    "    wireframe = Dict(traits={\n",
    "        \"enable\": CBool(False),\n",
    "        \"width\": CFloat(0.01),\n",
    "        \"color\": Unicode(\"black\")\n",
    "    }).tag(sync=True)\n",
    "\n",
    "@widgets.register('unray.Surface')\n",
    "class Surface(Mark): #, HasColorField, HasRestrictField, HasWireframeField):\n",
    "    color = Instance(Field).tag(sync=True, **widget_serialization)\n",
    "    color_lut = Instance(ColorLUT).tag(sync=True, **widget_serialization)\n",
    "    restrict = Instance(NominalField, allow_none=True).tag(sync=True, **widget_serialization)\n",
    "    restrict_values = List(CInt()).tag(sync=True)\n",
    "\n",
    "@widgets.register('unray.XRay')\n",
    "class XRay(Mark):#, HasDensityField, HasRestrictField):\n",
    "    density = Instance(Field).tag(sync=True, **widget_serialization)\n",
    "    density_lut = Instance(ScalarLUT).tag(sync=True, **widget_serialization)\n",
    "    restrict = Instance(NominalField, allow_none=True).tag(sync=True, **widget_serialization)\n",
    "    restrict_values = List(CInt()).tag(sync=True)\n"
   ]
  },
  {
   "cell_type": "code",
   "execution_count": null,
   "metadata": {},
   "outputs": [],
   "source": [
    "# Example configuration of data widgets\n",
    "\n",
    "# Unstructured mesh\n",
    "mesh = Mesh(cells=cells, coordinates=coordinates)\n",
    "#mesh.update(new_coordinates)\n",
    "\n",
    "# Cellwise constant field over mesh\n",
    "field0 = Field(mesh=mesh, values=values, space=\"P0\")\n",
    "#field0.update(new_values)\n",
    "\n",
    "# Cellwise continuous linear field over mesh\n",
    "field1 = Field(mesh=mesh, values=values, space=\"P1\")\n",
    "#field1.update(new_values)\n",
    "\n",
    "# Cellwise discontinuous linear field over mesh\n",
    "field2 = Field(mesh=mesh, values=values, space=\"D1\")\n",
    "#field2.update(new_values)\n",
    "\n",
    "# Cell indicator values over mesh\n",
    "ind3 = NominalField(mesh=mesh, values=indicators, dim=3)\n",
    "#ind3.update(new_values)\n",
    "\n",
    "# Facet indicator values over mesh\n",
    "ind2 = NominalField(mesh=mesh, values=values, dim=2)\n",
    "#ind2.update(new_values)\n",
    "\n",
    "# Lookup tables\n",
    "lut0 = ScalarLUT(values=[0.2, 0.4, 0.7, 1.0], interpolation=\"nearest\")\n",
    "lut1 = ScalarLUT(values=[0, 1], interpolation=\"linear\")\n",
    "lut2 = ColorLUT(values=[[1,0,0], [0,0,1]], interpolation=\"linear\")"
   ]
  },
  {
   "cell_type": "code",
   "execution_count": null,
   "metadata": {},
   "outputs": [],
   "source": [
    "# Example configuration of an unray plot\n",
    "\n",
    "# Plot configurations can be packaged in dicts\n",
    "surf_encoding = {\n",
    "    #\"color\": { \"field\": field0, \"lut\": lut2 },\n",
    "    #\"color\": { \"value\": \"blue\" },\n",
    "    \"color\": field0,\n",
    "    \"color_lut\": lut2,\n",
    "    #\"wireframe\": { \"enable\": True, \"width\": 0.05, \"color\": \"red\" },\n",
    "    #\"restrict\": { \"indicators\": ind3, \"enabled_values\": [3, 7] },\n",
    "    #\"restrict\": ind3,\n",
    "    #\"restrict_values\": [3, 7],\n",
    "}\n",
    "# But the encoding is really just passed as keyword arguments\n",
    "surf = Surface(**surf_encoding)\n",
    "xray = XRay(mesh=mesh, density=field1, density_lut=lut1)"
   ]
  },
  {
   "cell_type": "code",
   "execution_count": null,
   "metadata": {
    "collapsed": true
   },
   "outputs": [],
   "source": [
    "# Setup grid\n",
    "axes = []\n",
    "grid = Grid(*axes)\n",
    "# three obj above subclasses of pythreejs.Object3D\n",
    "\n",
    "\n",
    "# Setup figure\n",
    "fig = Figure(\n",
    "    grid=grid,\n",
    "    marks=[surf, xray],\n",
    "    title=\"Hello world\",\n",
    "    # Allow passing renderer and camera but create these by default if not provided:\n",
    "    #scene=pythreejs.Scene(...),\n",
    "    #renderer=pythreejs.Renderer(...),\n",
    "    #camera=pythreejs.Camera(...)\n",
    "    )\n",
    "#display(fig)"
   ]
  },
  {
   "cell_type": "code",
   "execution_count": null,
   "metadata": {
    "collapsed": true
   },
   "outputs": [],
   "source": []
  },
  {
   "cell_type": "code",
   "execution_count": null,
   "metadata": {
    "collapsed": true
   },
   "outputs": [],
   "source": []
  },
  {
   "cell_type": "code",
   "execution_count": null,
   "metadata": {},
   "outputs": [],
   "source": [
    "class A(HasTraits):\n",
    "    d = Dict(trait=CInt(), traits={\"a\": CInt(), \"b\": Unicode()})\n",
    "a = A()"
   ]
  },
  {
   "cell_type": "code",
   "execution_count": null,
   "metadata": {},
   "outputs": [],
   "source": [
    "a.d = { \"a\": 3 }\n",
    "a.d"
   ]
  },
  {
   "cell_type": "code",
   "execution_count": null,
   "metadata": {},
   "outputs": [],
   "source": [
    "a.d = { \"a\": 3, \"c\": 4}\n",
    "a.d"
   ]
  },
  {
   "cell_type": "code",
   "execution_count": null,
   "metadata": {
    "collapsed": true
   },
   "outputs": [],
   "source": []
  },
  {
   "cell_type": "code",
   "execution_count": null,
   "metadata": {},
   "outputs": [],
   "source": [
    "from traitlets import HasTraits, TraitError, Int, Bool, validate\n",
    "\n",
    "class Parity(HasTraits):\n",
    "    value = Int()\n",
    "    parity = Int()\n",
    "\n",
    "    @validate('value')\n",
    "    def _valid_value(self, proposal):\n",
    "        print(\"value\", proposal, proposal[\"owner\"].parity, proposal[\"owner\"].value)\n",
    "        if proposal['value'] % 2 != self.parity:\n",
    "            raise TraitError('value and parity should be consistent')\n",
    "        return proposal['value']\n",
    "\n",
    "    @validate('parity')\n",
    "    def _valid_parity(self, proposal):\n",
    "        print(\"parity\", proposal, proposal[\"owner\"].parity, proposal[\"owner\"].value)\n",
    "        parity = proposal['value']\n",
    "        if parity not in [0, 1]:\n",
    "            raise TraitError('parity should be 0 or 1')\n",
    "        if self.value % 2 != parity:\n",
    "            raise TraitError('value and parity should be consistent')\n",
    "        return proposal['value']\n",
    "\n",
    "parity_check = Parity(value=2)\n",
    "\n",
    "# Changing required parity and value together while holding cross validation\n",
    "with parity_check.hold_trait_notifications():\n",
    "    parity_check.value = 1\n",
    "    parity_check.parity = 3"
   ]
  }
 ],
 "metadata": {
  "kernelspec": {
   "display_name": "Python 3",
   "language": "python",
   "name": "python3"
  },
  "language_info": {
   "codemirror_mode": {
    "name": "ipython",
    "version": 3
   },
   "file_extension": ".py",
   "mimetype": "text/x-python",
   "name": "python",
   "nbconvert_exporter": "python",
   "pygments_lexer": "ipython3",
   "version": "3.5.2"
  }
 },
 "nbformat": 4,
 "nbformat_minor": 2
}
