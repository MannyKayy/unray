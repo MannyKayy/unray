{
 "cells": [
  {
   "cell_type": "code",
   "execution_count": 1,
   "metadata": {},
   "outputs": [
    {
     "name": "stdout",
     "output_type": "stream",
     "text": [
      "7.0.0a4\n",
      "6.1.0\n",
      "0.1.0.dev\n",
      "6 8\n"
     ]
    },
    {
     "data": {
      "text/plain": [
       "(6, [(0.0, 1.0), (0.0, 1.0), (0.0, 1.0)])"
      ]
     },
     "execution_count": 1,
     "metadata": {},
     "output_type": "execute_result"
    }
   ],
   "source": [
    "import ipywidgets\n",
    "import IPython\n",
    "import unray\n",
    "import dolfin\n",
    "import numpy as np\n",
    "\n",
    "from dolfin import *\n",
    "from unray import Data, DataDisplay, render\n",
    "from IPython.display import display\n",
    "\n",
    "print(ipywidgets.__version__)\n",
    "print(IPython.__version__)\n",
    "print(unray.__version__)\n",
    "\n",
    "\n",
    "def create_wave_mesh(N, M, thickness, xfreq, yfreq, xamp, yamp):\n",
    "    mesh = UnitCubeMesh(N, N, M)\n",
    "    print(mesh.num_cells(), mesh.num_vertices())\n",
    "    coordinates = mesh.coordinates()\n",
    "    coordinates[:,2] *= thickness\n",
    "    coordinates[:,2] += xamp*np.sin(3.14159*xfreq*coordinates[:,0])\n",
    "    coordinates[:,2] += yamp*np.sin(3.14159*yfreq*coordinates[:,1])\n",
    "    return mesh\n",
    "\n",
    "#mesh = UnitCubeMesh(2, 2, 2)\n",
    "mesh = UnitCubeMesh(1, 1, 1)\n",
    "#mesh = create_wave_mesh(32, 4, 0.125, 4.0, 3.0, 0.1, 0.05)\n",
    "#mesh = Mesh(\"data/heart_mesh.xml.gz\")\n",
    "#mesh = Mesh(\"data/dog_mesh_97k.xml.gz\")\n",
    "#mesh = UnitCubeMesh(1, 1, 1)\n",
    "#mesh = UnitTetrahedronMesh()\n",
    "\n",
    "\n",
    "r = 0\n",
    "for i in range(r):\n",
    "    mesh = refine(mesh)\n",
    "print(mesh.num_cells(), mesh.num_vertices())\n",
    "V = FunctionSpace(mesh, \"P\", 1)\n",
    "f0 = interpolate(Expression(\"1.0\", degree=1), V)\n",
    "f = interpolate(Expression(\"x[0]\", degree=1), V)\n",
    "g = interpolate(Expression(\"x[1]\", degree=1), V)\n",
    "mf = CellFunctionSizet(mesh)\n",
    "\n",
    "mf.set_all(0)\n",
    "class SD(SubDomain):\n",
    "    def inside(self, x, on_boundary):\n",
    "        return ((x[0]-5)**2 + (x[1]-0.3)**2 + (x[2]-0.3)**2) < 3**2\n",
    "SD().mark(mf, 10)\n",
    "\n",
    "\n",
    "cells = mesh.cells()\n",
    "coordinates = mesh.coordinates()\n",
    "cell_indicators = np.asarray(mf.array(), dtype=\"int32\")\n",
    "density = f.compute_vertex_values()\n",
    "emission = g.compute_vertex_values()\n",
    "density_lut = None\n",
    "emission_lut = None\n",
    "\n",
    "#density_lut = np.asarray([1.0, 1.0, 0.0, 0.0, 1.0, 1.0], dtype=\"float32\")\n",
    "#density_lut = np.asarray([0.0, 0.0, 1., 1., 0.0, 0.0], dtype=\"float32\")\n",
    "#density_lut = np.asarray([1, 1, 1, 1], dtype=\"float32\")\n",
    "density_lut = np.asarray([0.2, .4, .6, .8], dtype=\"float32\")\n",
    "\n",
    "emission_lut = np.asarray([[1,1,0], [1,.3,.6], [1,.6,.3], [1,1,0]], dtype=\"float32\")\n",
    "#emission_lut = np.asarray([[1,1,0], [0,1,0], [0,0,1], [1,1,1]], dtype=\"float32\")\n",
    "#emission_lut=np.asarray([[1,1,.9], [0,.5,0], [.5,.5,.5], [0,1,1]], dtype=\"float32\")\n",
    "\n",
    "\n",
    "mesh.num_cells(), [(coordinates[:,i].min(), coordinates[:,i].max()) for i in (0,1,2)]"
   ]
  },
  {
   "cell_type": "code",
   "execution_count": 2,
   "metadata": {},
   "outputs": [
    {
     "data": {
      "application/vnd.jupyter.widget-view+json": {
       "model_id": "8f45a7d5c3a74929ac972905e29a949b",
       "version_major": "2",
       "version_minor": "0"
      },
      "text/plain": [
       "A Jupyter Widget"
      ]
     },
     "metadata": {},
     "output_type": "display_data"
    }
   ],
   "source": [
    "figs = []\n",
    "#for method in [\"xray\", \"xray2\"]:\n",
    "cells2 = cells\n",
    "cells2 = cells[:1,:]\n",
    "for method in [\"xray2\"]:\n",
    "    fig = render(coordinates, cells2,\n",
    "                 density=density, emission=emission,\n",
    "                 density_lut=density_lut,\n",
    "                 emission_lut=emission_lut,\n",
    "                 width=960, height=960,\n",
    "                 #width=400, height=400,\n",
    "                 method=method)\n",
    "    fig.animate = True\n",
    "    figs.append(fig)\n",
    "box = ipywidgets.HBox(figs)\n",
    "box"
   ]
  },
  {
   "cell_type": "code",
   "execution_count": 3,
   "metadata": {
    "collapsed": true
   },
   "outputs": [],
   "source": [
    "for fig in figs:\n",
    "    fig.animate = False"
   ]
  },
  {
   "cell_type": "code",
   "execution_count": null,
   "metadata": {
    "collapsed": true
   },
   "outputs": [],
   "source": [
    "for fig in figs:\n",
    "    fig.animate = True"
   ]
  },
  {
   "cell_type": "code",
   "execution_count": null,
   "metadata": {
    "collapsed": true
   },
   "outputs": [],
   "source": []
  }
 ],
 "metadata": {
  "kernelspec": {
   "display_name": "Python 3",
   "language": "python",
   "name": "python3"
  },
  "language_info": {
   "codemirror_mode": {
    "name": "ipython",
    "version": 3
   },
   "file_extension": ".py",
   "mimetype": "text/x-python",
   "name": "python",
   "nbconvert_exporter": "python",
   "pygments_lexer": "ipython3",
   "version": "3.5.2"
  }
 },
 "nbformat": 4,
 "nbformat_minor": 2
}
